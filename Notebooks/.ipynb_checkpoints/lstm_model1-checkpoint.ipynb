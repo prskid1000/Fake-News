{
 "cells": [
  {
   "cell_type": "code",
   "execution_count": null,
   "metadata": {
    "execution": {
     "iopub.execute_input": "2021-09-17T03:56:17.719114Z",
     "iopub.status.busy": "2021-09-17T03:56:17.718683Z",
     "iopub.status.idle": "2021-09-17T03:56:17.727281Z",
     "shell.execute_reply": "2021-09-17T03:56:17.726479Z",
     "shell.execute_reply.started": "2021-09-17T03:56:17.719078Z"
    }
   },
   "outputs": [],
   "source": [
    "# This Python 3 environment comes with many helpful analytics libraries installed\n",
    "# It is defined by the kaggle/python Docker image: https://github.com/kaggle/docker-python\n",
    "# For example, here's several helpful packages to load\n",
    "\n",
    "import numpy as np # linear algebra\n",
    "import pandas as pd # data processing, CSV file I/O (e.g. pd.read_csv)\n",
    "\n",
    "# Input data files are available in the read-only \"../input/\" directory\n",
    "# For example, running this (by clicking run or pressing Shift+Enter) will list all files under the input directory\n",
    "\n",
    "import os\n",
    "for dirname, _, filenames in os.walk('/kaggle/input'):\n",
    "    for filename in filenames:\n",
    "        print(os.path.join(dirname, filename))\n",
    "\n",
    "# You can write up to 20GB to the current directory (/kaggle/working/) that gets preserved as output when you create a version using \"Save & Run All\" \n",
    "# You can also write temporary files to /kaggle/temp/, but they won't be saved outside of the current session"
   ]
  },
  {
   "cell_type": "code",
   "execution_count": null,
   "metadata": {
    "execution": {
     "iopub.execute_input": "2021-09-17T03:56:19.147148Z",
     "iopub.status.busy": "2021-09-17T03:56:19.146872Z",
     "iopub.status.idle": "2021-09-17T03:56:32.080998Z",
     "shell.execute_reply": "2021-09-17T03:56:32.080099Z",
     "shell.execute_reply.started": "2021-09-17T03:56:19.147119Z"
    }
   },
   "outputs": [],
   "source": [
    "!pip install contractions"
   ]
  },
  {
   "cell_type": "code",
   "execution_count": null,
   "metadata": {
    "execution": {
     "iopub.execute_input": "2021-09-17T03:56:32.085Z",
     "iopub.status.busy": "2021-09-17T03:56:32.084768Z",
     "iopub.status.idle": "2021-09-17T03:56:32.968555Z",
     "shell.execute_reply": "2021-09-17T03:56:32.967826Z",
     "shell.execute_reply.started": "2021-09-17T03:56:32.084969Z"
    }
   },
   "outputs": [],
   "source": [
    "\n",
    "import nltk\n",
    "nltk.download('stopwords')\n",
    "nltk.download('punkt')\n",
    "nltk.download('words')"
   ]
  },
  {
   "cell_type": "code",
   "execution_count": null,
   "metadata": {
    "execution": {
     "iopub.execute_input": "2021-09-17T03:56:32.97045Z",
     "iopub.status.busy": "2021-09-17T03:56:32.969964Z",
     "iopub.status.idle": "2021-09-17T03:56:37.199969Z",
     "shell.execute_reply": "2021-09-17T03:56:37.199221Z",
     "shell.execute_reply.started": "2021-09-17T03:56:32.970408Z"
    }
   },
   "outputs": [],
   "source": [
    "import nltk\n",
    "import re\n",
    "import pickle\n",
    "import numpy as np\n",
    "import pandas as pd\n",
    "import contractions\n",
    "import seaborn as sns\n",
    "import matplotlib.pyplot as plt\n",
    "from nltk.corpus import stopwords\n",
    "from tensorflow.keras.preprocessing.text import Tokenizer\n",
    "from tensorflow.keras.preprocessing.sequence import pad_sequences\n",
    "from tensorflow.keras.models import Sequential\n",
    "from tensorflow.keras.layers import Dense, Embedding, LSTM, Conv1D, MaxPool1D, Dropout\n",
    "from sklearn.model_selection import train_test_split\n",
    "from sklearn.metrics import classification_report, accuracy_score"
   ]
  },
  {
   "cell_type": "code",
   "execution_count": null,
   "metadata": {
    "execution": {
     "iopub.execute_input": "2021-09-17T06:05:20.412084Z",
     "iopub.status.busy": "2021-09-17T06:05:20.411823Z",
     "iopub.status.idle": "2021-09-17T06:07:19.913065Z",
     "shell.execute_reply": "2021-09-17T06:07:19.912024Z",
     "shell.execute_reply.started": "2021-09-17T06:05:20.412055Z"
    }
   },
   "outputs": [],
   "source": [
    "df_2 = pd.read_csv(\"/kaggle/input/fake-news/train.csv\", header=0, index_col=0)\n",
    "df_t = pd.read_csv(\"/kaggle/input/fake-news/test.csv\", header=0, index_col=0)\n",
    "df_2 = df_2.drop(['title','author'], axis = 1)\n",
    "df_t = df_t.drop(['title','author'], axis = 1)\n",
    "df_2.dropna(inplace = True)\n",
    "df_t.fillna('',inplace = True)\n",
    "#print(df_2.isnull().sum(axis = 0))\n",
    "\n",
    "#Expanding Contraction, Lower Case and Word Splitting\n",
    "df_2['text'] = df_2['text'].apply(lambda x: [contractions.fix(word, slang=False).lower() for word in x.split()])\n",
    "df_t['text'] = df_t['text'].apply(lambda x: [contractions.fix(word, slang=False).lower() for word in x.split()])\n",
    "\n",
    "#Removing Punctuations\n",
    "df_2['text'] = df_2['text'].apply(lambda x: [re.sub(r'[^\\w\\s]','', word)  for word in x])\n",
    "df_t['text'] = df_t['text'].apply(lambda x: [re.sub(r'[^\\w\\s]','', word)  for word in x])\n",
    "\n",
    "#Removing Stop Words\n",
    "stop_words = set(stopwords.words('english'))\n",
    "df_2['text'] = df_2['text'].apply(lambda x: [word for word in x if word not in stop_words])\n",
    "df_t['text'] = df_t['text'].apply(lambda x: [word for word in x if word not in stop_words])\n",
    "\n",
    "#Removing Special Charecter and Numbers\n",
    "df_2['text'] = df_2['text'].apply(lambda x: [word for word in x if re.search(\"[@_!#$%^&*()<>?/|}{~:0-9]\", word) == None])\n",
    "df_t['text'] = df_t['text'].apply(lambda x: [word for word in x if re.search(\"[@_!#$%^&*()<>?/|}{~:0-9]\", word) == None])\n",
    "\n",
    "#Removing Non-English Words\n",
    "#df_2['text'] = df_2['text'].apply(lambda x: [word for word in x if word in english_words])\n",
    "\n",
    "#Concating Words back to Sentence\n",
    "#df_2['text'] = df_2['text'].apply(lambda x: ' '.join(x))\n",
    "\n",
    "#Transforming Labels\n",
    "df_2['label'] = df_2['label'].apply(lambda x: int(x))\n",
    "\n",
    "print(df_2.head(3))"
   ]
  },
  {
   "cell_type": "code",
   "execution_count": null,
   "metadata": {
    "execution": {
     "iopub.execute_input": "2021-09-17T06:03:41.242214Z",
     "iopub.status.busy": "2021-09-17T06:03:41.241922Z",
     "iopub.status.idle": "2021-09-17T06:03:41.25416Z",
     "shell.execute_reply": "2021-09-17T06:03:41.253348Z",
     "shell.execute_reply.started": "2021-09-17T06:03:41.242182Z"
    }
   },
   "outputs": [],
   "source": [
    "df_2.head(2)"
   ]
  },
  {
   "cell_type": "code",
   "execution_count": null,
   "metadata": {
    "execution": {
     "iopub.execute_input": "2021-09-17T06:07:30.311913Z",
     "iopub.status.busy": "2021-09-17T06:07:30.311622Z",
     "iopub.status.idle": "2021-09-17T06:07:30.320093Z",
     "shell.execute_reply": "2021-09-17T06:07:30.319122Z",
     "shell.execute_reply.started": "2021-09-17T06:07:30.311882Z"
    }
   },
   "outputs": [],
   "source": [
    "df_t.isnull().sum()"
   ]
  },
  {
   "cell_type": "code",
   "execution_count": null,
   "metadata": {
    "execution": {
     "iopub.status.busy": "2021-09-17T06:02:14.602251Z",
     "iopub.status.idle": "2021-09-17T06:02:14.602587Z",
     "shell.execute_reply": "2021-09-17T06:02:14.602447Z",
     "shell.execute_reply.started": "2021-09-17T06:02:14.602426Z"
    }
   },
   "outputs": [],
   "source": [
    "print(stop_words)"
   ]
  },
  {
   "cell_type": "code",
   "execution_count": null,
   "metadata": {
    "execution": {
     "iopub.execute_input": "2021-09-17T06:07:37.002037Z",
     "iopub.status.busy": "2021-09-17T06:07:37.001768Z",
     "iopub.status.idle": "2021-09-17T06:07:37.007408Z",
     "shell.execute_reply": "2021-09-17T06:07:37.006368Z",
     "shell.execute_reply.started": "2021-09-17T06:07:37.002008Z"
    }
   },
   "outputs": [],
   "source": [
    "#stemming \n",
    "from nltk.stem.porter import PorterStemmer\n",
    "porter_stemmer = PorterStemmer()\n",
    "from nltk.stem import WordNetLemmatizer\n",
    "wordnet_lemmatizer = WordNetLemmatizer()"
   ]
  },
  {
   "cell_type": "code",
   "execution_count": null,
   "metadata": {
    "execution": {
     "iopub.execute_input": "2021-09-17T06:07:37.639657Z",
     "iopub.status.busy": "2021-09-17T06:07:37.639398Z",
     "iopub.status.idle": "2021-09-17T06:08:15.252519Z",
     "shell.execute_reply": "2021-09-17T06:08:15.24733Z",
     "shell.execute_reply.started": "2021-09-17T06:07:37.63963Z"
    }
   },
   "outputs": [],
   "source": [
    "x = []\n",
    "x_test = []\n",
    "english_words = set(nltk.corpus.words.words())\n",
    "for words in df_2['text']:\n",
    "        tmp = []\n",
    "        #tmp1 = []\n",
    "        fil_wor = [wordnet_lemmatizer.lemmatize(word, 'n') for word in words if word in english_words]\n",
    "        #fil_wor1 = [wordnetlemmatizer.lemmatize(word) for word in words if word in english_words]\n",
    "        tmp.extend(fil_wor)\n",
    "        #tmp1.extend(fil_wor1)\n",
    "        x.append(tmp)\n",
    "        #x1.append(tmp1)\n",
    "        \n",
    "for words in df_t['text']:\n",
    "        tmp = []\n",
    "        #tmp1 = []\n",
    "        fil_wor = [wordnet_lemmatizer.lemmatize(word, 'n') for word in words if word in english_words]\n",
    "        #fil_wor1 = [wordnetlemmatizer.lemmatize(word) for word in words if word in english_words]\n",
    "        tmp.extend(fil_wor)\n",
    "        #tmp1.extend(fil_wor1)\n",
    "        x_test.append(tmp)\n",
    "        #x1.append(tmp1)\n"
   ]
  },
  {
   "cell_type": "code",
   "execution_count": null,
   "metadata": {
    "execution": {
     "iopub.execute_input": "2021-09-17T06:08:15.254371Z",
     "iopub.status.busy": "2021-09-17T06:08:15.254085Z",
     "iopub.status.idle": "2021-09-17T06:08:15.26876Z",
     "shell.execute_reply": "2021-09-17T06:08:15.268139Z",
     "shell.execute_reply.started": "2021-09-17T06:08:15.254334Z"
    }
   },
   "outputs": [],
   "source": [
    "df_2.shape"
   ]
  },
  {
   "cell_type": "code",
   "execution_count": null,
   "metadata": {
    "execution": {
     "iopub.execute_input": "2021-09-17T06:08:15.269854Z",
     "iopub.status.busy": "2021-09-17T06:08:15.269629Z",
     "iopub.status.idle": "2021-09-17T06:08:15.275624Z",
     "shell.execute_reply": "2021-09-17T06:08:15.274892Z",
     "shell.execute_reply.started": "2021-09-17T06:08:15.269824Z"
    }
   },
   "outputs": [],
   "source": [
    "len(x_test)"
   ]
  },
  {
   "cell_type": "code",
   "execution_count": null,
   "metadata": {
    "execution": {
     "iopub.execute_input": "2021-09-17T06:08:15.279637Z",
     "iopub.status.busy": "2021-09-17T06:08:15.278496Z",
     "iopub.status.idle": "2021-09-17T06:08:15.29072Z",
     "shell.execute_reply": "2021-09-17T06:08:15.290032Z",
     "shell.execute_reply.started": "2021-09-17T06:08:15.2796Z"
    }
   },
   "outputs": [],
   "source": [
    "df_t.shape"
   ]
  },
  {
   "cell_type": "code",
   "execution_count": null,
   "metadata": {
    "execution": {
     "iopub.execute_input": "2021-09-17T06:08:22.572019Z",
     "iopub.status.busy": "2021-09-17T06:08:22.571727Z",
     "iopub.status.idle": "2021-09-17T06:08:22.675656Z",
     "shell.execute_reply": "2021-09-17T06:08:22.674573Z",
     "shell.execute_reply.started": "2021-09-17T06:08:22.57199Z"
    }
   },
   "outputs": [],
   "source": [
    " \n",
    "x_all=  x.copy()\n"
   ]
  },
  {
   "cell_type": "code",
   "execution_count": null,
   "metadata": {
    "execution": {
     "iopub.execute_input": "2021-09-17T06:08:23.801628Z",
     "iopub.status.busy": "2021-09-17T06:08:23.800842Z",
     "iopub.status.idle": "2021-09-17T06:08:23.808149Z",
     "shell.execute_reply": "2021-09-17T06:08:23.807237Z",
     "shell.execute_reply.started": "2021-09-17T06:08:23.801577Z"
    }
   },
   "outputs": [],
   "source": [
    "#range(len(x_test))"
   ]
  },
  {
   "cell_type": "code",
   "execution_count": null,
   "metadata": {
    "execution": {
     "iopub.execute_input": "2021-09-17T06:08:25.452111Z",
     "iopub.status.busy": "2021-09-17T06:08:25.451847Z",
     "iopub.status.idle": "2021-09-17T06:08:25.457514Z",
     "shell.execute_reply": "2021-09-17T06:08:25.456776Z",
     "shell.execute_reply.started": "2021-09-17T06:08:25.452081Z"
    }
   },
   "outputs": [],
   "source": [
    "len(x_all)"
   ]
  },
  {
   "cell_type": "code",
   "execution_count": null,
   "metadata": {
    "execution": {
     "iopub.execute_input": "2021-09-17T06:08:27.577116Z",
     "iopub.status.busy": "2021-09-17T06:08:27.576824Z",
     "iopub.status.idle": "2021-09-17T06:08:27.585248Z",
     "shell.execute_reply": "2021-09-17T06:08:27.584444Z",
     "shell.execute_reply.started": "2021-09-17T06:08:27.577084Z"
    }
   },
   "outputs": [],
   "source": [
    "for y in  range(len(x_test)):\n",
    "    x_all.append(x_test[y])"
   ]
  },
  {
   "cell_type": "code",
   "execution_count": null,
   "metadata": {
    "execution": {
     "iopub.execute_input": "2021-09-17T06:08:28.781376Z",
     "iopub.status.busy": "2021-09-17T06:08:28.781034Z",
     "iopub.status.idle": "2021-09-17T06:08:28.786537Z",
     "shell.execute_reply": "2021-09-17T06:08:28.785822Z",
     "shell.execute_reply.started": "2021-09-17T06:08:28.781344Z"
    }
   },
   "outputs": [],
   "source": [
    "len(x_all)"
   ]
  },
  {
   "cell_type": "code",
   "execution_count": null,
   "metadata": {
    "execution": {
     "iopub.execute_input": "2021-09-17T06:08:38.431649Z",
     "iopub.status.busy": "2021-09-17T06:08:38.431369Z",
     "iopub.status.idle": "2021-09-17T06:08:38.437956Z",
     "shell.execute_reply": "2021-09-17T06:08:38.437188Z",
     "shell.execute_reply.started": "2021-09-17T06:08:38.43162Z"
    }
   },
   "outputs": [],
   "source": [
    "import gensim"
   ]
  },
  {
   "cell_type": "code",
   "execution_count": null,
   "metadata": {
    "execution": {
     "iopub.execute_input": "2021-09-17T06:09:54.261952Z",
     "iopub.status.busy": "2021-09-17T06:09:54.261682Z",
     "iopub.status.idle": "2021-09-17T06:10:55.205137Z",
     "shell.execute_reply": "2021-09-17T06:10:55.204402Z",
     "shell.execute_reply.started": "2021-09-17T06:09:54.261923Z"
    }
   },
   "outputs": [],
   "source": [
    "#n of vectors we are generating\n",
    "EMBEDDING_DIM = 100\n",
    "\n",
    "#Creating Word Vectors by Word2Vec Method (takes time...)\n",
    "w2v_model = gensim.models.Word2Vec(sentences=x_all, vector_size=EMBEDDING_DIM, window=5, min_count=1)"
   ]
  },
  {
   "cell_type": "code",
   "execution_count": null,
   "metadata": {
    "execution": {
     "iopub.execute_input": "2021-09-17T06:10:57.791501Z",
     "iopub.status.busy": "2021-09-17T06:10:57.790924Z",
     "iopub.status.idle": "2021-09-17T06:10:57.797084Z",
     "shell.execute_reply": "2021-09-17T06:10:57.796336Z",
     "shell.execute_reply.started": "2021-09-17T06:10:57.791463Z"
    }
   },
   "outputs": [],
   "source": [
    "len(w2v_model.wv)"
   ]
  },
  {
   "cell_type": "code",
   "execution_count": null,
   "metadata": {
    "execution": {
     "iopub.execute_input": "2021-09-17T06:10:59.260909Z",
     "iopub.status.busy": "2021-09-17T06:10:59.260625Z",
     "iopub.status.idle": "2021-09-17T06:10:59.268619Z",
     "shell.execute_reply": "2021-09-17T06:10:59.267668Z",
     "shell.execute_reply.started": "2021-09-17T06:10:59.26088Z"
    }
   },
   "outputs": [],
   "source": [
    "w2v_model.wv[\"liberty\"]"
   ]
  },
  {
   "cell_type": "code",
   "execution_count": null,
   "metadata": {
    "execution": {
     "iopub.execute_input": "2021-09-17T06:11:00.721216Z",
     "iopub.status.busy": "2021-09-17T06:11:00.720928Z",
     "iopub.status.idle": "2021-09-17T06:11:00.736919Z",
     "shell.execute_reply": "2021-09-17T06:11:00.735849Z",
     "shell.execute_reply.started": "2021-09-17T06:11:00.721185Z"
    }
   },
   "outputs": [],
   "source": [
    "word = 'people'\n",
    "w2v_model.wv.most_similar(word)"
   ]
  },
  {
   "cell_type": "code",
   "execution_count": null,
   "metadata": {
    "execution": {
     "iopub.execute_input": "2021-09-17T06:11:06.559417Z",
     "iopub.status.busy": "2021-09-17T06:11:06.558872Z",
     "iopub.status.idle": "2021-09-17T06:11:13.495194Z",
     "shell.execute_reply": "2021-09-17T06:11:13.494436Z",
     "shell.execute_reply.started": "2021-09-17T06:11:06.559379Z"
    }
   },
   "outputs": [],
   "source": [
    "tokenizer = Tokenizer()\n",
    "tokenizer.fit_on_texts(x)\n",
    "\n",
    "x = tokenizer.texts_to_sequences(x)"
   ]
  },
  {
   "cell_type": "code",
   "execution_count": null,
   "metadata": {
    "execution": {
     "iopub.execute_input": "2021-09-17T06:11:13.496907Z",
     "iopub.status.busy": "2021-09-17T06:11:13.496661Z",
     "iopub.status.idle": "2021-09-17T06:11:14.186043Z",
     "shell.execute_reply": "2021-09-17T06:11:14.185248Z",
     "shell.execute_reply.started": "2021-09-17T06:11:13.496874Z"
    }
   },
   "outputs": [],
   "source": [
    "x_test = tokenizer.texts_to_sequences(x_test)"
   ]
  },
  {
   "cell_type": "code",
   "execution_count": null,
   "metadata": {
    "execution": {
     "iopub.execute_input": "2021-09-17T06:11:14.187713Z",
     "iopub.status.busy": "2021-09-17T06:11:14.187234Z",
     "iopub.status.idle": "2021-09-17T06:11:14.194145Z",
     "shell.execute_reply": "2021-09-17T06:11:14.193342Z",
     "shell.execute_reply.started": "2021-09-17T06:11:14.187675Z"
    }
   },
   "outputs": [],
   "source": [
    "x[0][:10]"
   ]
  },
  {
   "cell_type": "code",
   "execution_count": null,
   "metadata": {
    "execution": {
     "iopub.execute_input": "2021-09-17T06:11:14.742409Z",
     "iopub.status.busy": "2021-09-17T06:11:14.741818Z",
     "iopub.status.idle": "2021-09-17T06:11:14.751894Z",
     "shell.execute_reply": "2021-09-17T06:11:14.750865Z",
     "shell.execute_reply.started": "2021-09-17T06:11:14.742372Z"
    }
   },
   "outputs": [],
   "source": [
    "word_index = tokenizer.word_index\n",
    "for word, num in word_index.items():\n",
    "    print(f\"{word} -> {num}\")\n",
    "    if num == 10:\n",
    "        break"
   ]
  },
  {
   "cell_type": "code",
   "execution_count": null,
   "metadata": {
    "execution": {
     "iopub.execute_input": "2021-09-17T06:11:15.257798Z",
     "iopub.status.busy": "2021-09-17T06:11:15.256933Z",
     "iopub.status.idle": "2021-09-17T06:11:16.639503Z",
     "shell.execute_reply": "2021-09-17T06:11:16.638719Z",
     "shell.execute_reply.started": "2021-09-17T06:11:15.257749Z"
    }
   },
   "outputs": [],
   "source": [
    "maxlen = 700\n",
    "x = pad_sequences(x, maxlen=maxlen)\n",
    "x_test = pad_sequences(x_test, maxlen=maxlen)"
   ]
  },
  {
   "cell_type": "code",
   "execution_count": null,
   "metadata": {
    "execution": {
     "iopub.execute_input": "2021-09-17T06:11:23.611999Z",
     "iopub.status.busy": "2021-09-17T06:11:23.611718Z",
     "iopub.status.idle": "2021-09-17T06:11:23.618964Z",
     "shell.execute_reply": "2021-09-17T06:11:23.617985Z",
     "shell.execute_reply.started": "2021-09-17T06:11:23.611969Z"
    }
   },
   "outputs": [],
   "source": [
    "y = df_2['label']"
   ]
  },
  {
   "cell_type": "code",
   "execution_count": null,
   "metadata": {
    "execution": {
     "iopub.execute_input": "2021-09-17T06:11:24.201417Z",
     "iopub.status.busy": "2021-09-17T06:11:24.200828Z",
     "iopub.status.idle": "2021-09-17T06:11:24.205364Z",
     "shell.execute_reply": "2021-09-17T06:11:24.204525Z",
     "shell.execute_reply.started": "2021-09-17T06:11:24.201379Z"
    }
   },
   "outputs": [],
   "source": [
    "#word_index"
   ]
  },
  {
   "cell_type": "code",
   "execution_count": null,
   "metadata": {
    "execution": {
     "iopub.execute_input": "2021-09-17T06:11:24.681151Z",
     "iopub.status.busy": "2021-09-17T06:11:24.680893Z",
     "iopub.status.idle": "2021-09-17T06:11:24.686207Z",
     "shell.execute_reply": "2021-09-17T06:11:24.685481Z",
     "shell.execute_reply.started": "2021-09-17T06:11:24.681123Z"
    }
   },
   "outputs": [],
   "source": [
    "# Function to create weight matrix from word2vec gensim model\n",
    "def get_weight_matrix(model, vocab):\n",
    "    # total vocabulary size plus 0 for unknown words\n",
    "    vocab_size = len(vocab) + 1\n",
    "    # define weight matrix dimensions with all 0\n",
    "    weight_matrix = np.zeros((vocab_size, EMBEDDING_DIM))\n",
    "    # step vocab, store vectors using the Tokenizer's integer mapping\n",
    "    for word, i in vocab.items():\n",
    "        weight_matrix[i] = model[word]\n",
    "    return weight_matrix, vocab_size"
   ]
  },
  {
   "cell_type": "code",
   "execution_count": null,
   "metadata": {
    "execution": {
     "iopub.execute_input": "2021-09-17T06:11:25.231249Z",
     "iopub.status.busy": "2021-09-17T06:11:25.230721Z",
     "iopub.status.idle": "2021-09-17T06:11:25.353036Z",
     "shell.execute_reply": "2021-09-17T06:11:25.352267Z",
     "shell.execute_reply.started": "2021-09-17T06:11:25.231214Z"
    }
   },
   "outputs": [],
   "source": [
    "#Getting embedding vectors from word2vec and usings it as weights of non-trainable keras embedding layer\n",
    "embedding_vectors, vocab_size = get_weight_matrix(w2v_model.wv, word_index)"
   ]
  },
  {
   "cell_type": "code",
   "execution_count": null,
   "metadata": {
    "execution": {
     "iopub.execute_input": "2021-09-17T06:11:25.981179Z",
     "iopub.status.busy": "2021-09-17T06:11:25.980922Z",
     "iopub.status.idle": "2021-09-17T06:11:25.987007Z",
     "shell.execute_reply": "2021-09-17T06:11:25.986147Z",
     "shell.execute_reply.started": "2021-09-17T06:11:25.981149Z"
    }
   },
   "outputs": [],
   "source": [
    "vocab_size"
   ]
  },
  {
   "cell_type": "code",
   "execution_count": null,
   "metadata": {
    "execution": {
     "iopub.execute_input": "2021-09-17T06:11:43.292222Z",
     "iopub.status.busy": "2021-09-17T06:11:43.291958Z",
     "iopub.status.idle": "2021-09-17T06:11:43.296681Z",
     "shell.execute_reply": "2021-09-17T06:11:43.296007Z",
     "shell.execute_reply.started": "2021-09-17T06:11:43.292194Z"
    }
   },
   "outputs": [],
   "source": [
    "from tensorflow.keras.layers import Dense, Embedding, LSTM, Conv1D, MaxPool1D, Dropout\n",
    "\n",
    "from tensorflow.keras.layers import Dropout, Conv1D, MaxPooling1D, BatchNormalization"
   ]
  },
  {
   "cell_type": "code",
   "execution_count": null,
   "metadata": {
    "execution": {
     "iopub.execute_input": "2021-09-17T06:11:44.38935Z",
     "iopub.status.busy": "2021-09-17T06:11:44.38904Z",
     "iopub.status.idle": "2021-09-17T06:11:44.87946Z",
     "shell.execute_reply": "2021-09-17T06:11:44.878678Z",
     "shell.execute_reply.started": "2021-09-17T06:11:44.389311Z"
    }
   },
   "outputs": [],
   "source": [
    "#Defining Neural Network\n",
    "model = Sequential()\n",
    "#Non-trainable embeddidng layer\n",
    "model.add(Embedding(vocab_size, output_dim=EMBEDDING_DIM, weights=[embedding_vectors], input_length=maxlen, trainable=False))\n",
    "#LSTM \n",
    "model.add(Dropout(0.2))\n",
    "#model.add(Conv1D(filters=32, kernel_size=5, padding='same', activation='relu'))\n",
    "#model.add(MaxPooling1D(pool_size=2))\n",
    "model.add(Conv1D(filters=64, kernel_size=3, padding='same', activation='relu'))\n",
    "model.add(MaxPooling1D(pool_size=2))\n",
    "model.add(LSTM(units=128,dropout=0.2, return_sequences=True))\n",
    "model.add(BatchNormalization())\n",
    "model.add(LSTM(units=128,dropout=0.2))\n",
    "model.add(BatchNormalization())\n",
    "#model.add(Dropout(0.2))\n",
    "model.add(Dense(1, activation='sigmoid'))\n",
    "model.compile(optimizer='adam', loss='binary_crossentropy', metrics=['acc'])\n",
    "\n",
    "#del embedding_vectors"
   ]
  },
  {
   "cell_type": "code",
   "execution_count": null,
   "metadata": {
    "execution": {
     "iopub.execute_input": "2021-09-17T06:11:46.561141Z",
     "iopub.status.busy": "2021-09-17T06:11:46.560864Z",
     "iopub.status.idle": "2021-09-17T06:11:46.573203Z",
     "shell.execute_reply": "2021-09-17T06:11:46.57237Z",
     "shell.execute_reply.started": "2021-09-17T06:11:46.561109Z"
    }
   },
   "outputs": [],
   "source": [
    "\n",
    "model.summary()"
   ]
  },
  {
   "cell_type": "code",
   "execution_count": null,
   "metadata": {
    "execution": {
     "iopub.execute_input": "2021-09-17T06:11:48.211278Z",
     "iopub.status.busy": "2021-09-17T06:11:48.210987Z",
     "iopub.status.idle": "2021-09-17T06:11:48.237622Z",
     "shell.execute_reply": "2021-09-17T06:11:48.236761Z",
     "shell.execute_reply.started": "2021-09-17T06:11:48.211244Z"
    }
   },
   "outputs": [],
   "source": [
    "X_train, X_test, y_train, y_test = train_test_split(x, y)"
   ]
  },
  {
   "cell_type": "code",
   "execution_count": null,
   "metadata": {
    "execution": {
     "iopub.execute_input": "2021-09-17T06:11:49.821182Z",
     "iopub.status.busy": "2021-09-17T06:11:49.820912Z",
     "iopub.status.idle": "2021-09-17T06:24:54.990336Z",
     "shell.execute_reply": "2021-09-17T06:24:54.989678Z",
     "shell.execute_reply.started": "2021-09-17T06:11:49.821145Z"
    }
   },
   "outputs": [],
   "source": [
    "model.fit(X_train, y_train, validation_split=0.3, epochs=50)"
   ]
  },
  {
   "cell_type": "code",
   "execution_count": null,
   "metadata": {
    "execution": {
     "iopub.execute_input": "2021-09-17T06:25:22.932191Z",
     "iopub.status.busy": "2021-09-17T06:25:22.931931Z",
     "iopub.status.idle": "2021-09-17T06:25:25.832464Z",
     "shell.execute_reply": "2021-09-17T06:25:25.831605Z",
     "shell.execute_reply.started": "2021-09-17T06:25:22.932162Z"
    }
   },
   "outputs": [],
   "source": [
    "\n",
    "#Prediction is in probability of news being real, so converting into classes\n",
    "# Class 0 (Fake) if predicted prob < 0.5, else class 1 (Real)\n",
    "y_pred = (model.predict(X_test) >= 0.5).astype(\"int\")"
   ]
  },
  {
   "cell_type": "code",
   "execution_count": null,
   "metadata": {
    "execution": {
     "iopub.execute_input": "2021-09-17T06:25:25.837438Z",
     "iopub.status.busy": "2021-09-17T06:25:25.837007Z",
     "iopub.status.idle": "2021-09-17T06:25:25.846704Z",
     "shell.execute_reply": "2021-09-17T06:25:25.845909Z",
     "shell.execute_reply.started": "2021-09-17T06:25:25.837405Z"
    }
   },
   "outputs": [],
   "source": [
    "accuracy_score(y_test, y_pred)"
   ]
  },
  {
   "cell_type": "code",
   "execution_count": null,
   "metadata": {
    "execution": {
     "iopub.execute_input": "2021-09-17T06:25:29.937155Z",
     "iopub.status.busy": "2021-09-17T06:25:29.936889Z",
     "iopub.status.idle": "2021-09-17T06:25:29.955374Z",
     "shell.execute_reply": "2021-09-17T06:25:29.95469Z",
     "shell.execute_reply.started": "2021-09-17T06:25:29.937125Z"
    }
   },
   "outputs": [],
   "source": [
    "print(classification_report(y_test, y_pred)) "
   ]
  },
  {
   "cell_type": "code",
   "execution_count": null,
   "metadata": {
    "execution": {
     "iopub.execute_input": "2021-09-17T06:25:31.541373Z",
     "iopub.status.busy": "2021-09-17T06:25:31.541073Z",
     "iopub.status.idle": "2021-09-17T06:25:31.557083Z",
     "shell.execute_reply": "2021-09-17T06:25:31.556233Z",
     "shell.execute_reply.started": "2021-09-17T06:25:31.541339Z"
    }
   },
   "outputs": [],
   "source": [
    "from sklearn.metrics import confusion_matrix\n",
    "cm = confusion_matrix(y_test, y_pred)\n",
    "cm"
   ]
  },
  {
   "cell_type": "code",
   "execution_count": null,
   "metadata": {
    "execution": {
     "iopub.execute_input": "2021-09-17T06:25:32.090189Z",
     "iopub.status.busy": "2021-09-17T06:25:32.089358Z",
     "iopub.status.idle": "2021-09-17T06:25:32.316506Z",
     "shell.execute_reply": "2021-09-17T06:25:32.315806Z",
     "shell.execute_reply.started": "2021-09-17T06:25:32.090148Z"
    }
   },
   "outputs": [],
   "source": [
    "plt.figure(figsize=(10,7))\n",
    "sns.heatmap(cm, annot=True)\n",
    "plt.xlabel('Predicted')\n",
    "plt.ylabel('Truth')"
   ]
  },
  {
   "cell_type": "code",
   "execution_count": null,
   "metadata": {
    "execution": {
     "iopub.execute_input": "2021-09-17T06:25:37.821531Z",
     "iopub.status.busy": "2021-09-17T06:25:37.821088Z",
     "iopub.status.idle": "2021-09-17T06:25:40.43335Z",
     "shell.execute_reply": "2021-09-17T06:25:40.43251Z",
     "shell.execute_reply.started": "2021-09-17T06:25:37.821486Z"
    }
   },
   "outputs": [],
   "source": [
    "y_t = (model.predict(x_test) >= 0.5).astype(\"int\")"
   ]
  },
  {
   "cell_type": "code",
   "execution_count": null,
   "metadata": {
    "execution": {
     "iopub.execute_input": "2021-09-17T06:25:41.628042Z",
     "iopub.status.busy": "2021-09-17T06:25:41.627762Z",
     "iopub.status.idle": "2021-09-17T06:25:41.633322Z",
     "shell.execute_reply": "2021-09-17T06:25:41.6325Z",
     "shell.execute_reply.started": "2021-09-17T06:25:41.628013Z"
    }
   },
   "outputs": [],
   "source": [
    "len(y_t.squeeze())"
   ]
  },
  {
   "cell_type": "code",
   "execution_count": null,
   "metadata": {
    "execution": {
     "iopub.execute_input": "2021-09-17T06:25:48.251624Z",
     "iopub.status.busy": "2021-09-17T06:25:48.251111Z",
     "iopub.status.idle": "2021-09-17T06:25:48.256627Z",
     "shell.execute_reply": "2021-09-17T06:25:48.255943Z",
     "shell.execute_reply.started": "2021-09-17T06:25:48.251585Z"
    }
   },
   "outputs": [],
   "source": [
    "len(df_t.index)"
   ]
  },
  {
   "cell_type": "code",
   "execution_count": null,
   "metadata": {
    "execution": {
     "iopub.execute_input": "2021-09-17T06:25:50.921641Z",
     "iopub.status.busy": "2021-09-17T06:25:50.921272Z",
     "iopub.status.idle": "2021-09-17T06:25:50.950656Z",
     "shell.execute_reply": "2021-09-17T06:25:50.949858Z",
     "shell.execute_reply.started": "2021-09-17T06:25:50.921602Z"
    }
   },
   "outputs": [],
   "source": [
    "pd.read_csv('/kaggle/input/fake-news/submit.csv')"
   ]
  },
  {
   "cell_type": "code",
   "execution_count": null,
   "metadata": {
    "execution": {
     "iopub.execute_input": "2021-09-17T06:32:34.032104Z",
     "iopub.status.busy": "2021-09-17T06:32:34.031454Z",
     "iopub.status.idle": "2021-09-17T06:32:34.037691Z",
     "shell.execute_reply": "2021-09-17T06:32:34.036809Z",
     "shell.execute_reply.started": "2021-09-17T06:32:34.032065Z"
    }
   },
   "outputs": [],
   "source": [
    "result = pd.DataFrame({\"id\" :df_t.index, \"label\":y_t.squeeze() }, index = None )"
   ]
  },
  {
   "cell_type": "code",
   "execution_count": null,
   "metadata": {
    "execution": {
     "iopub.execute_input": "2021-09-17T06:33:44.221005Z",
     "iopub.status.busy": "2021-09-17T06:33:44.220733Z",
     "iopub.status.idle": "2021-09-17T06:33:44.22493Z",
     "shell.execute_reply": "2021-09-17T06:33:44.224276Z",
     "shell.execute_reply.started": "2021-09-17T06:33:44.220974Z"
    }
   },
   "outputs": [],
   "source": [
    "result.reset_index(drop = True, inplace = True)"
   ]
  },
  {
   "cell_type": "code",
   "execution_count": null,
   "metadata": {
    "execution": {
     "iopub.execute_input": "2021-09-17T06:34:51.293259Z",
     "iopub.status.busy": "2021-09-17T06:34:51.292986Z",
     "iopub.status.idle": "2021-09-17T06:34:51.30867Z",
     "shell.execute_reply": "2021-09-17T06:34:51.307916Z",
     "shell.execute_reply.started": "2021-09-17T06:34:51.293226Z"
    }
   },
   "outputs": [],
   "source": [
    "result.to_csv(\"result_2.csv\",index = False)"
   ]
  },
  {
   "cell_type": "code",
   "execution_count": null,
   "metadata": {
    "execution": {
     "iopub.execute_input": "2021-09-17T06:34:52.311014Z",
     "iopub.status.busy": "2021-09-17T06:34:52.310757Z",
     "iopub.status.idle": "2021-09-17T06:34:52.327602Z",
     "shell.execute_reply": "2021-09-17T06:34:52.326949Z",
     "shell.execute_reply.started": "2021-09-17T06:34:52.310985Z"
    }
   },
   "outputs": [],
   "source": [
    "pd.read_csv(\"result_2.csv\")"
   ]
  },
  {
   "cell_type": "code",
   "execution_count": null,
   "metadata": {},
   "outputs": [],
   "source": []
  }
 ],
 "metadata": {
  "kernelspec": {
   "display_name": "Python 3",
   "language": "python",
   "name": "python3"
  },
  "language_info": {
   "codemirror_mode": {
    "name": "ipython",
    "version": 3
   },
   "file_extension": ".py",
   "mimetype": "text/x-python",
   "name": "python",
   "nbconvert_exporter": "python",
   "pygments_lexer": "ipython3",
   "version": "3.7.4"
  }
 },
 "nbformat": 4,
 "nbformat_minor": 4
}

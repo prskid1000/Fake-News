{
 "cells": [
  {
   "cell_type": "code",
   "execution_count": 3,
   "metadata": {},
   "outputs": [],
   "source": [
    "import numpy as np\n",
    "import pandas as pd\n",
    "import seaborn as sns\n",
    "import matplotlib.pyplot as plt"
   ]
  },
  {
   "cell_type": "code",
   "execution_count": 4,
   "metadata": {},
   "outputs": [
    {
     "name": "stdout",
     "output_type": "stream",
     "text": [
      "20761\n"
     ]
    }
   ],
   "source": [
    "df_1 = pd.read_csv(\"../Dataset/train.csv\", header=0, index_col=0)\n",
    "df_1 = df_1.drop(['title','author'], axis = 1)\n",
    "#df_1.isnull().sum(axis = 0)\n",
    "#df_1['author'] = df_1['author'].fillna('Anonymous')\n",
    "df_1.dropna(inplace = True)\n",
    "#df_1.isnull().sum(axis = 0)\n",
    "#df_1.head(3)\n",
    "print(len(df_1))"
   ]
  },
  {
   "cell_type": "code",
   "execution_count": 5,
   "metadata": {},
   "outputs": [
    {
     "name": "stdout",
     "output_type": "stream",
     "text": [
      "6420\n"
     ]
    }
   ],
   "source": [
    "df_2 = pd.read_csv(\"../Dataset/train2.csv\", header=0, index_col=0)\n",
    "df_2.dropna(inplace = True)\n",
    "#df_2.isnull().sum(axis = 0)\n",
    "label = []\n",
    "for i in df_2['label']:\n",
    "    if(i == 'real'):\n",
    "        label.append(1)\n",
    "    else:\n",
    "        label.append(0)\n",
    "df_2['label'] = label\n",
    "#df_2.head(3)\n",
    "print(len(df_2))"
   ]
  },
  {
   "cell_type": "code",
   "execution_count": 12,
   "metadata": {},
   "outputs": [
    {
     "data": {
      "text/html": [
       "<div>\n",
       "<style scoped>\n",
       "    .dataframe tbody tr th:only-of-type {\n",
       "        vertical-align: middle;\n",
       "    }\n",
       "\n",
       "    .dataframe tbody tr th {\n",
       "        vertical-align: top;\n",
       "    }\n",
       "\n",
       "    .dataframe thead th {\n",
       "        text-align: right;\n",
       "    }\n",
       "</style>\n",
       "<table border=\"1\" class=\"dataframe\">\n",
       "  <thead>\n",
       "    <tr style=\"text-align: right;\">\n",
       "      <th></th>\n",
       "      <th>label</th>\n",
       "    </tr>\n",
       "    <tr>\n",
       "      <th>tweet</th>\n",
       "      <th></th>\n",
       "    </tr>\n",
       "  </thead>\n",
       "  <tbody>\n",
       "    <tr>\n",
       "      <td>Travellers should adhere to strict hygiene measures, wash hands with soap and water regularly, and/or use alcohol-based hand sanitisers. Touching the face with unwashed hands should be avoided. Travellers should avoid contact with sick persons, in particular those with respiratory symptoms and fever. It should be emphasised that older people and those with underlying health conditions should take these precautionary measures very seriously. Travellers who develop any symptoms during or after travel should self-isolate; those developing acute respiratory symptoms within 14 days upon return should be advised to seek immediate medical advice, ideally by phone first to their national healthcare provider.</td>\n",
       "      <td>1</td>\n",
       "    </tr>\n",
       "    <tr>\n",
       "      <td>For the first time in the post-war history of epidemics, there is a reversal of which countries are most heavily affected by a disease pandemic. By early May, 2020, more than 90% of all reported deaths from coronavirus disease 2019 (COVID-19) have been in the world's richest countries; if China, Brazil, and Iran are included in this group, then that number rises to 96%. The rest of the world—historically far more used to being depicted as the reservoir of pestilence and disease that wealthy countries sought to protect themselves from, and the recipient of generous amounts of advice and modest amounts of aid from rich governments and foundations—looks on warily as COVID-19 moves into these regions.Despite this reversal, however, the usual formula of dispensing guidance continues to be played out, with policies deemed necessary for the hardest-hit wealthy countries becoming a one-size-fits-all message for all countries. Two centrepieces of this approach are the use of widespread lockdowns to enforce physical distancing—although, it is notable that a few wealthy countries like Sweden and South Korea have not adopted this strategy—and a focus on sophisticated tertiary hospital care and technological solutions. We question the appropriateness of these particular strategies for less-resourced countries with distinct population structures, vastly different public health needs, immensely fewer health-care resources, less participatory governance, massive within-country inequities, and fragile economies. We argue that these strategies might subvert two core principles of global health: that context matters and that social justice and equity are paramount.Context is central to the control of any epidemic, a truism we've known for centuries but that we seem to have overlooked in this pandemic. Perhaps this is unsurprising given the colonial history of medicine, in which the illnesses that affected Europeans were assumed to have universal significance whereas those that affected the non-European populations who were colonised were relegated to “tropical medicine”. That context matters is obvious in the case of COVID-19. Low-income and lower-middle-income countries, clustered in sub-Saharan Africa and south and southeast Asia, have a different demographic profile from wealthy countries of the OECD and east Asia. Their populations are much younger and most older people live at home, not in care homes, where up to half of all deaths in wealthy countries have occurred. Just these variations in age structure and social arrangements account for lower risk of COVID-19 mortality in these populations. Yet lockdowns have been imposed in these countries.\\nThe number of deaths from COVID-19 since the epidemic began is a tiny fraction of all deaths that have occurred due to any cause since the start of 2020. Thus, people continue to die in the millions of other diseases, and lockdowns have made accessing essential health care much more difficult in some places. In India, for example, public transport, the main way for the poor and many health-care workers to reach a health facility, has been barred since late March, although a limited restoration was announced on May 4, 2020. Not surprisingly, there have been dramatic reductions in essential public health and clinical interventions; data from India's National Health Mission indicate that there was a 69% reduction in measles, mumps, and rubella vaccination in children, a 21% reduction in institutional deliveries, a 50% reduction in clinic attendance for acute cardiac events and, surprisingly, a 32% fall in inpatient care for pulmonary conditions in March, 2020, compared with March, 2019. Similar reports are emerging from other countries, including disruptions to insecticide-treated net campaigns, access to antimalarial medicines, and suspension of polio vaccination.Twinned with lockdowns to achieve physical distancing is the promotion of widescale COVID-19 testing that relies on expensive kits and an emphasis on intensive-care units and ventilator capacity. These strategies, which have dominated much of the health-system response in rich countries, are a remote possibility in many low-resource contexts where access to intensive care or anything beyond basic diagnostics is far from universal. If COVID-19 vaccines are developed, history suggests they are likely to be available first in the countries that can afford to purchase them and only then will they trickle down to low-income countries, where they will reach the wealthy first. By contrast, there is barely any mention of the role of syndromic diagnosis (clinical diagnosis based on the constellation of symptoms and signs which are a hallmark of infection); the role of community health workers, primary care nurses, and doctors; and the role of community engagement. Constrained health-care systems already short of money, beds, equipment, and staff, are unlikely to be able to provide treatment for COVID-19 patients unless they reallocate scarce resources. And so, the combined effect of the reduced access to, and availability of, essential health care might lead to increases in deaths unrelated to COVID-19.A second key principle of global health is social justice and equity: the concerns of the poor who already bear a disproportionate burden of risk factors and disease must be at the centre of all decisions. Yet a one-size-fits-all approach to COVID-19 has not only been inequitable in its impact, but is also likely to increase inequalities in the long term. A stark example is the inequitable economic impact of lockdowns on people who barely survive on precarious livelihoods. About 2 billion people make their living in the informal economy, and over 90% of them live in low-income and low-middle-income countries. Hunger is an immediate threat to these people and their families, both due to the loss of daily wages and the disruption of the food supply chains. The UN has estimated that over 300 million children who rely on school meals for most of their nutritional needs might now be at risk of acute hunger, which could reverse the progress made in the past 2–3 years in reducing infant mortality within a year.Then there is the practical challenge of physical distancing and quarantining in urban slums and rural households where multiple people share a room and where toilets cater for many families. Lockdowns have been enforced with an increase in authoritarian behaviour of the police with the poor experiencing brutality and humiliation in countries such as India, Nigeria, Kenya, and South Africa. In sharp contrast, lockdowns are little more than an inconvenience for affluent people, who typically look to high-income countries as the model to shape their view of how society should respond to the pandemic.What then should these countries do, especially as some of them begin to ease lockdown restrictions? Realistically, a community-based approach is needed that emphasises active case finding (through syndromic diagnosis where laboratory-confirmed diagnosis is not available) by community health workers and primary care providers, with contact tracing and home quarantining, especially early in an epidemic, engaging and enabling community resources with due attention to avoiding stigmatisation, and banning mass gatherings. District-level facilities for appropriate respiratory support that can be managed by locally available human resources, equipped with adequate personal protection, need to be developed as long-term assets for the health-care system. Lockdowns, if humanely planned and with the participation of the community affected, could be used sparingly to contain clusters of cases. Wearing masks at home for the ill person and caregiver, washing hands when possible, practising coughing etiquette, and physically distancing older people and those with comorbidities are a few of the non-intrusive interventions that are possible without disrupting the intrinsic fabric of society. Central to our proposals are the engagement and participation of all sections of the community, especially the poor and marginalised, as a mature and responsible citizenry, invoking their solidarity to be part of a shared endeavour, rather than seeing the goal of containing COVID-19 as a purely technocratic or law-and-order problem. Similar community-based strategies of social mobilisation and engagement were effective in reducing transmission of Ebola virus disease in west Africa.\\nConcurrently, we suggest that countries must let people get on with their lives—to work, earn money, and put food on the table. Let shop keepers open and sell their wares and provide services. Let construction workers return to building sites. Allow farmers to harvest their crops and to transport them to be sold on the open market. Allow health workers to do their daily work as before, with sensible precautions such as use of gloves and masks to minimise the risk of exposure to the virus. And allow the average citizen to travel freely with restrictions only applied to clusters where lockdowns are necessary. Livelihoods are an imperative for saving lives. Some will say such an approach, which runs the risk of spreading disease, implies that the lives of poor people are not as valuable as those in wealthy countries. Nothing could be further from the truth. The policies of widespread lockdowns and a focus on high-technology health care might unintentionally lead to even more sickness and death, disproportionately affecting the poor. And, if such policies are mandated by global consensus, then global financial institutions must write off outstanding debts from low-income countries and finance the needed resources to underwrite the economic recovery of these countries.\\nKey principles of global health are context and equity. We urge less-resourced countries to devise policies that speak to their unique demographics, diverse social conditions and cultures, precarious livelihoods, and constrained infrastructure and resources. A focus is needed on what is possible, acceptable, just, and sustainable. Given that substantial financial support from wealthy countries—in contrast to technical guidance—is unlikely, low-resource countries need to rely on their own home-grown expertise, grassroots experience, and community resources to chart a way through this crisis. In addition to being aligned with the founding principles of global health, such policies would adhere to a principle of the Hippocratic Oath “primum non nocere”—”first do no harm”.</td>\n",
       "      <td>1</td>\n",
       "    </tr>\n",
       "    <tr>\n",
       "      <td>Be understing, a Japanese doctor offers excellent advice on preventing COVID-19. New Coronavirus may not show symptoms for several days (14-27 days). How can one know if a person is infected? By the time he has a fever and / or a cough and goes to the lung hospital, the patient may have 50% fibrosis,and then, its too late! Taiwanese experts provide simple self-monitoring that we can do every morning. Take a deep breath and hold your breath for more than 10 seconds. If you can do this successfully without coughing and without difficulty, without anxiety and chest tightness,it shows that you do not have fibrosis and generally indicate no infection. Check yourself every morning in a fresh air environment. The Japanese physician treating COVID-19 provides the best advice on preventing this: Everyone should make sure the mouth and throat are always moist.Drink some water every 15 minutes. Why not? Even if the virus gets into your mouth, drinking water or other fluids will help wash it down the esophagus into the stomach. When the virus is in the stomach, the hydrochloric acid in your stomach will kill the germs. If you do not drink enough water regularly, the virus can enter the airways and into your lungs, which is very dangerous to get.</td>\n",
       "      <td>0</td>\n",
       "    </tr>\n",
       "  </tbody>\n",
       "</table>\n",
       "</div>"
      ],
      "text/plain": [
       "                                                    label\n",
       "tweet                                                    \n",
       "Travellers should adhere to strict hygiene meas...      1\n",
       "For the first time in the post-war history of e...      1\n",
       "Be understing, a Japanese doctor offers excelle...      0"
      ]
     },
     "execution_count": 12,
     "metadata": {},
     "output_type": "execute_result"
    }
   ],
   "source": [
    "df_3 = pd.read_csv(\"../Dataset/train3.csv\", header=0, index_col=0)\n",
    "df_3.dropna(inplace = True)\n",
    "#df_3.isnull().sum(axis = 0)\n",
    "df_3.head(3)\n",
    "#print(len(df_3))"
   ]
  },
  {
   "cell_type": "code",
   "execution_count": 13,
   "metadata": {},
   "outputs": [
    {
     "ename": "KeyError",
     "evalue": "'tweet'",
     "output_type": "error",
     "traceback": [
      "\u001b[1;31m---------------------------------------------------------------------------\u001b[0m",
      "\u001b[1;31mKeyError\u001b[0m                                  Traceback (most recent call last)",
      "\u001b[1;32mC:\\ProgramData\\Anaconda3\\lib\\site-packages\\pandas\\core\\indexes\\base.py\u001b[0m in \u001b[0;36mget_loc\u001b[1;34m(self, key, method, tolerance)\u001b[0m\n\u001b[0;32m   2896\u001b[0m             \u001b[1;32mtry\u001b[0m\u001b[1;33m:\u001b[0m\u001b[1;33m\u001b[0m\u001b[1;33m\u001b[0m\u001b[0m\n\u001b[1;32m-> 2897\u001b[1;33m                 \u001b[1;32mreturn\u001b[0m \u001b[0mself\u001b[0m\u001b[1;33m.\u001b[0m\u001b[0m_engine\u001b[0m\u001b[1;33m.\u001b[0m\u001b[0mget_loc\u001b[0m\u001b[1;33m(\u001b[0m\u001b[0mkey\u001b[0m\u001b[1;33m)\u001b[0m\u001b[1;33m\u001b[0m\u001b[1;33m\u001b[0m\u001b[0m\n\u001b[0m\u001b[0;32m   2898\u001b[0m             \u001b[1;32mexcept\u001b[0m \u001b[0mKeyError\u001b[0m\u001b[1;33m:\u001b[0m\u001b[1;33m\u001b[0m\u001b[1;33m\u001b[0m\u001b[0m\n",
      "\u001b[1;32mpandas\\_libs\\index.pyx\u001b[0m in \u001b[0;36mpandas._libs.index.IndexEngine.get_loc\u001b[1;34m()\u001b[0m\n",
      "\u001b[1;32mpandas\\_libs\\index.pyx\u001b[0m in \u001b[0;36mpandas._libs.index.IndexEngine.get_loc\u001b[1;34m()\u001b[0m\n",
      "\u001b[1;32mpandas\\_libs\\hashtable_class_helper.pxi\u001b[0m in \u001b[0;36mpandas._libs.hashtable.PyObjectHashTable.get_item\u001b[1;34m()\u001b[0m\n",
      "\u001b[1;32mpandas\\_libs\\hashtable_class_helper.pxi\u001b[0m in \u001b[0;36mpandas._libs.hashtable.PyObjectHashTable.get_item\u001b[1;34m()\u001b[0m\n",
      "\u001b[1;31mKeyError\u001b[0m: 'tweet'",
      "\nDuring handling of the above exception, another exception occurred:\n",
      "\u001b[1;31mKeyError\u001b[0m                                  Traceback (most recent call last)",
      "\u001b[1;32m<ipython-input-13-beb68255552f>\u001b[0m in \u001b[0;36m<module>\u001b[1;34m\u001b[0m\n\u001b[0;32m      1\u001b[0m \u001b[0mdf\u001b[0m \u001b[1;33m=\u001b[0m \u001b[0mpd\u001b[0m\u001b[1;33m.\u001b[0m\u001b[0mDataFrame\u001b[0m\u001b[1;33m(\u001b[0m\u001b[1;33m)\u001b[0m\u001b[1;33m\u001b[0m\u001b[1;33m\u001b[0m\u001b[0m\n\u001b[1;32m----> 2\u001b[1;33m \u001b[0mdf\u001b[0m\u001b[1;33m[\u001b[0m\u001b[1;34m'news'\u001b[0m\u001b[1;33m]\u001b[0m \u001b[1;33m=\u001b[0m \u001b[0mdf_1\u001b[0m\u001b[1;33m[\u001b[0m\u001b[1;34m'text'\u001b[0m\u001b[1;33m]\u001b[0m\u001b[1;33m.\u001b[0m\u001b[0mappend\u001b[0m\u001b[1;33m(\u001b[0m\u001b[0mdf_2\u001b[0m\u001b[1;33m[\u001b[0m\u001b[1;34m'tweet'\u001b[0m\u001b[1;33m]\u001b[0m\u001b[1;33m)\u001b[0m\u001b[1;33m.\u001b[0m\u001b[0mappend\u001b[0m\u001b[1;33m(\u001b[0m\u001b[0mdf_3\u001b[0m\u001b[1;33m[\u001b[0m\u001b[1;34m'tweet'\u001b[0m\u001b[1;33m]\u001b[0m\u001b[1;33m)\u001b[0m\u001b[1;33m\u001b[0m\u001b[1;33m\u001b[0m\u001b[0m\n\u001b[0m\u001b[0;32m      3\u001b[0m \u001b[0mdf\u001b[0m\u001b[1;33m[\u001b[0m\u001b[1;34m'label'\u001b[0m\u001b[1;33m]\u001b[0m \u001b[1;33m=\u001b[0m \u001b[0mdf_1\u001b[0m\u001b[1;33m[\u001b[0m\u001b[1;34m'label'\u001b[0m\u001b[1;33m]\u001b[0m\u001b[1;33m.\u001b[0m\u001b[0mappend\u001b[0m\u001b[1;33m(\u001b[0m\u001b[0mdf_2\u001b[0m\u001b[1;33m[\u001b[0m\u001b[1;34m'label'\u001b[0m\u001b[1;33m]\u001b[0m\u001b[1;33m)\u001b[0m\u001b[1;33m.\u001b[0m\u001b[0mappend\u001b[0m\u001b[1;33m(\u001b[0m\u001b[0mdf_3\u001b[0m\u001b[1;33m[\u001b[0m\u001b[1;34m'label'\u001b[0m\u001b[1;33m]\u001b[0m\u001b[1;33m)\u001b[0m\u001b[1;33m\u001b[0m\u001b[1;33m\u001b[0m\u001b[0m\n\u001b[0;32m      4\u001b[0m \u001b[0mdf\u001b[0m\u001b[1;33m.\u001b[0m\u001b[0mhead\u001b[0m\u001b[1;33m(\u001b[0m\u001b[1;36m3\u001b[0m\u001b[1;33m)\u001b[0m\u001b[1;33m\u001b[0m\u001b[1;33m\u001b[0m\u001b[0m\n",
      "\u001b[1;32mC:\\ProgramData\\Anaconda3\\lib\\site-packages\\pandas\\core\\frame.py\u001b[0m in \u001b[0;36m__getitem__\u001b[1;34m(self, key)\u001b[0m\n\u001b[0;32m   2978\u001b[0m             \u001b[1;32mif\u001b[0m \u001b[0mself\u001b[0m\u001b[1;33m.\u001b[0m\u001b[0mcolumns\u001b[0m\u001b[1;33m.\u001b[0m\u001b[0mnlevels\u001b[0m \u001b[1;33m>\u001b[0m \u001b[1;36m1\u001b[0m\u001b[1;33m:\u001b[0m\u001b[1;33m\u001b[0m\u001b[1;33m\u001b[0m\u001b[0m\n\u001b[0;32m   2979\u001b[0m                 \u001b[1;32mreturn\u001b[0m \u001b[0mself\u001b[0m\u001b[1;33m.\u001b[0m\u001b[0m_getitem_multilevel\u001b[0m\u001b[1;33m(\u001b[0m\u001b[0mkey\u001b[0m\u001b[1;33m)\u001b[0m\u001b[1;33m\u001b[0m\u001b[1;33m\u001b[0m\u001b[0m\n\u001b[1;32m-> 2980\u001b[1;33m             \u001b[0mindexer\u001b[0m \u001b[1;33m=\u001b[0m \u001b[0mself\u001b[0m\u001b[1;33m.\u001b[0m\u001b[0mcolumns\u001b[0m\u001b[1;33m.\u001b[0m\u001b[0mget_loc\u001b[0m\u001b[1;33m(\u001b[0m\u001b[0mkey\u001b[0m\u001b[1;33m)\u001b[0m\u001b[1;33m\u001b[0m\u001b[1;33m\u001b[0m\u001b[0m\n\u001b[0m\u001b[0;32m   2981\u001b[0m             \u001b[1;32mif\u001b[0m \u001b[0mis_integer\u001b[0m\u001b[1;33m(\u001b[0m\u001b[0mindexer\u001b[0m\u001b[1;33m)\u001b[0m\u001b[1;33m:\u001b[0m\u001b[1;33m\u001b[0m\u001b[1;33m\u001b[0m\u001b[0m\n\u001b[0;32m   2982\u001b[0m                 \u001b[0mindexer\u001b[0m \u001b[1;33m=\u001b[0m \u001b[1;33m[\u001b[0m\u001b[0mindexer\u001b[0m\u001b[1;33m]\u001b[0m\u001b[1;33m\u001b[0m\u001b[1;33m\u001b[0m\u001b[0m\n",
      "\u001b[1;32mC:\\ProgramData\\Anaconda3\\lib\\site-packages\\pandas\\core\\indexes\\base.py\u001b[0m in \u001b[0;36mget_loc\u001b[1;34m(self, key, method, tolerance)\u001b[0m\n\u001b[0;32m   2897\u001b[0m                 \u001b[1;32mreturn\u001b[0m \u001b[0mself\u001b[0m\u001b[1;33m.\u001b[0m\u001b[0m_engine\u001b[0m\u001b[1;33m.\u001b[0m\u001b[0mget_loc\u001b[0m\u001b[1;33m(\u001b[0m\u001b[0mkey\u001b[0m\u001b[1;33m)\u001b[0m\u001b[1;33m\u001b[0m\u001b[1;33m\u001b[0m\u001b[0m\n\u001b[0;32m   2898\u001b[0m             \u001b[1;32mexcept\u001b[0m \u001b[0mKeyError\u001b[0m\u001b[1;33m:\u001b[0m\u001b[1;33m\u001b[0m\u001b[1;33m\u001b[0m\u001b[0m\n\u001b[1;32m-> 2899\u001b[1;33m                 \u001b[1;32mreturn\u001b[0m \u001b[0mself\u001b[0m\u001b[1;33m.\u001b[0m\u001b[0m_engine\u001b[0m\u001b[1;33m.\u001b[0m\u001b[0mget_loc\u001b[0m\u001b[1;33m(\u001b[0m\u001b[0mself\u001b[0m\u001b[1;33m.\u001b[0m\u001b[0m_maybe_cast_indexer\u001b[0m\u001b[1;33m(\u001b[0m\u001b[0mkey\u001b[0m\u001b[1;33m)\u001b[0m\u001b[1;33m)\u001b[0m\u001b[1;33m\u001b[0m\u001b[1;33m\u001b[0m\u001b[0m\n\u001b[0m\u001b[0;32m   2900\u001b[0m         \u001b[0mindexer\u001b[0m \u001b[1;33m=\u001b[0m \u001b[0mself\u001b[0m\u001b[1;33m.\u001b[0m\u001b[0mget_indexer\u001b[0m\u001b[1;33m(\u001b[0m\u001b[1;33m[\u001b[0m\u001b[0mkey\u001b[0m\u001b[1;33m]\u001b[0m\u001b[1;33m,\u001b[0m \u001b[0mmethod\u001b[0m\u001b[1;33m=\u001b[0m\u001b[0mmethod\u001b[0m\u001b[1;33m,\u001b[0m \u001b[0mtolerance\u001b[0m\u001b[1;33m=\u001b[0m\u001b[0mtolerance\u001b[0m\u001b[1;33m)\u001b[0m\u001b[1;33m\u001b[0m\u001b[1;33m\u001b[0m\u001b[0m\n\u001b[0;32m   2901\u001b[0m         \u001b[1;32mif\u001b[0m \u001b[0mindexer\u001b[0m\u001b[1;33m.\u001b[0m\u001b[0mndim\u001b[0m \u001b[1;33m>\u001b[0m \u001b[1;36m1\u001b[0m \u001b[1;32mor\u001b[0m \u001b[0mindexer\u001b[0m\u001b[1;33m.\u001b[0m\u001b[0msize\u001b[0m \u001b[1;33m>\u001b[0m \u001b[1;36m1\u001b[0m\u001b[1;33m:\u001b[0m\u001b[1;33m\u001b[0m\u001b[1;33m\u001b[0m\u001b[0m\n",
      "\u001b[1;32mpandas\\_libs\\index.pyx\u001b[0m in \u001b[0;36mpandas._libs.index.IndexEngine.get_loc\u001b[1;34m()\u001b[0m\n",
      "\u001b[1;32mpandas\\_libs\\index.pyx\u001b[0m in \u001b[0;36mpandas._libs.index.IndexEngine.get_loc\u001b[1;34m()\u001b[0m\n",
      "\u001b[1;32mpandas\\_libs\\hashtable_class_helper.pxi\u001b[0m in \u001b[0;36mpandas._libs.hashtable.PyObjectHashTable.get_item\u001b[1;34m()\u001b[0m\n",
      "\u001b[1;32mpandas\\_libs\\hashtable_class_helper.pxi\u001b[0m in \u001b[0;36mpandas._libs.hashtable.PyObjectHashTable.get_item\u001b[1;34m()\u001b[0m\n",
      "\u001b[1;31mKeyError\u001b[0m: 'tweet'"
     ]
    }
   ],
   "source": [
    "df = pd.DataFrame()\n",
    "df['news'] = df_1['text'].append(df_2['tweet']).append(df_3['tweet'])\n",
    "df['label'] = df_1['label'].append(df_2['label']).append(df_3['label'])\n",
    "df.head(3)"
   ]
  },
  {
   "cell_type": "code",
   "execution_count": null,
   "metadata": {},
   "outputs": [],
   "source": [
    "#df['author'].unique()\n",
    "#Calculating probility of an article written by an author is not fake\n",
    "#prob = {}\n",
    "#for i in df['author'].unique():\n",
    "#    t = len(df[(df['label'] == 1) & (df['author'] == i)])\n",
    "#    f = len(df[(df['label'] == 0) & (df['author'] == i)])\n",
    "#    prob[i] = t / (t + f)\n",
    "#print(prob)\n",
    "\n",
    "#new_col = []\n",
    "#for i in df['author']:\n",
    "#    new_col.append(prob[i])\n",
    "#print(new_col)\n",
    "\n",
    "#df['Author Honesty'] = new_col\n",
    "#df.head(10)"
   ]
  },
  {
   "cell_type": "code",
   "execution_count": null,
   "metadata": {},
   "outputs": [],
   "source": [
    "#import nltk\n",
    "#nltk.download('punkt')\n",
    "#from nltk.tokenize import word_tokenize\n",
    "#word_tokenize(\"Hello Wolrd!\")\n",
    "\n",
    "#from collections import Counter\n",
    "#titleToken = []\n",
    "#bodyToken = []\n",
    "#for i in df['title']:\n",
    "#    titleToken.append(word_tokenize(i.lower()))\n",
    "    \n",
    "#for i in df['text']:\n",
    "#    bodyToken.append(word_tokenize(i.lower()))"
   ]
  },
  {
   "cell_type": "code",
   "execution_count": null,
   "metadata": {},
   "outputs": [],
   "source": [
    "#from gensim.corpora.dictionary import Dictionary\n",
    "#dictionary = Dictionary(titleToken + bodyToken) \n",
    "##print(dictionary.token2id)\n",
    "\n",
    "#titleCorpus = [dictionary.doc2bow(doc) for doc in titleToken]\n",
    "#bodyCorpus = [dictionary.doc2bow(doc) for doc in bodyToken]\n",
    "\n",
    "#from gensim.models.tfidfmodel import TfidfModel\n",
    "#titleTfidf = TfidfModel(titleCorpus)\n",
    "#bodyTfidf = TfidfModel(titleCorpus)"
   ]
  },
  {
   "cell_type": "code",
   "execution_count": null,
   "metadata": {},
   "outputs": [],
   "source": [
    "#from sklearn.feature_extraction.text import CountVectorizer\n",
    "#countVectorizer = CountVectorizer(stop_words='english')\n",
    "#titleCountVector = countVectorizer.fit_transform(df['title']) \n",
    "#bodyCountVector = countVectorizer.fit_transform(df['text']) "
   ]
  },
  {
   "cell_type": "code",
   "execution_count": 49,
   "metadata": {},
   "outputs": [],
   "source": [
    "from sklearn.feature_extraction.text import TfidfVectorizer\n",
    "tfidfVectorizer = TfidfVectorizer(stop_words='english')\n",
    "newsTfidfVector = tfidfVectorizer.fit_transform(df['news'])  "
   ]
  },
  {
   "cell_type": "code",
   "execution_count": 51,
   "metadata": {},
   "outputs": [
    {
     "data": {
      "text/plain": [
       "(27181, 187763)"
      ]
     },
     "execution_count": 51,
     "metadata": {},
     "output_type": "execute_result"
    }
   ],
   "source": [
    "newsTfidfVector.shape"
   ]
  },
  {
   "cell_type": "code",
   "execution_count": 52,
   "metadata": {},
   "outputs": [],
   "source": [
    "np.savez_compressed(\"../Dataset/train.npz\",news = newsTfidfVector, label = df['label'])"
   ]
  },
  {
   "cell_type": "code",
   "execution_count": 53,
   "metadata": {},
   "outputs": [
    {
     "data": {
      "text/plain": [
       "['news', 'label']"
      ]
     },
     "execution_count": 53,
     "metadata": {},
     "output_type": "execute_result"
    }
   ],
   "source": [
    "data = np.load(\"../Dataset/train.npz\", allow_pickle=True)\n",
    "data.files"
   ]
  },
  {
   "cell_type": "code",
   "execution_count": 54,
   "metadata": {},
   "outputs": [
    {
     "name": "stdout",
     "output_type": "stream",
     "text": [
      "  (0, 160614)\t0.04984610165581392\n",
      "  (0, 92755)\t0.04736235930566197\n",
      "  (0, 25266)\t0.02383807679366534\n",
      "  (0, 31035)\t0.02619537362954105\n",
      "  (0, 52941)\t0.019554064908716712\n",
      "  (0, 33652)\t0.06232866857109771\n",
      "  (0, 38483)\t0.050307599675913965\n",
      "  (0, 56312)\t0.01684447955684817\n",
      "  (0, 99750)\t0.04093284622245842\n",
      "  (0, 90709)\t0.028191374403808547\n",
      "  (0, 160554)\t0.013223719102589496\n",
      "  (0, 6603)\t0.036438666783370634\n",
      "  (0, 140556)\t0.030617967799776172\n",
      "  (0, 72631)\t0.02420011951217913\n",
      "  (0, 132798)\t0.029111346691851857\n",
      "  (0, 128092)\t0.031924314065711216\n",
      "  (0, 137263)\t0.021720530338712424\n",
      "  (0, 41189)\t0.026822439602633977\n",
      "  (0, 85691)\t0.023433469014583458\n",
      "  (0, 149749)\t0.04142593690946193\n",
      "  (0, 29982)\t0.052627903064040395\n",
      "  (0, 28848)\t0.03922710609296314\n",
      "  (0, 101078)\t0.03273112287533327\n",
      "  (0, 148590)\t0.02526899300028926\n",
      "  (0, 139435)\t0.03237756248176545\n",
      "  :\t:\n",
      "  (27179, 44397)\t0.2819554106405322\n",
      "  (27179, 121480)\t0.2722134639855377\n",
      "  (27179, 26884)\t0.31554737706336683\n",
      "  (27179, 112139)\t0.26661490858031434\n",
      "  (27179, 58244)\t0.23425395563746662\n",
      "  (27180, 35725)\t0.3336703981735507\n",
      "  (27180, 117621)\t0.2922161197068019\n",
      "  (27180, 5498)\t0.28402451320484257\n",
      "  (27180, 75669)\t0.24641418005111862\n",
      "  (27180, 52992)\t0.2310859267977926\n",
      "  (27180, 86953)\t0.2918437589101521\n",
      "  (27180, 161709)\t0.26097436836266624\n",
      "  (27180, 89715)\t0.2036160010350196\n",
      "  (27180, 146290)\t0.16438913738693428\n",
      "  (27180, 27296)\t0.15022965218844003\n",
      "  (27180, 102723)\t0.13468271094720197\n",
      "  (27180, 7129)\t0.2564900189770148\n",
      "  (27180, 7233)\t0.1978815996579545\n",
      "  (27180, 135688)\t0.16724386429871435\n",
      "  (27180, 1510)\t0.3047143139980205\n",
      "  (27180, 100551)\t0.08513391143215981\n",
      "  (27180, 150920)\t0.2244477323700204\n",
      "  (27180, 38804)\t0.12683585195842942\n",
      "  (27180, 2264)\t0.1707562927529406\n",
      "  (27180, 27286)\t0.13181801130017526\n"
     ]
    }
   ],
   "source": [
    "print(data['news'])"
   ]
  },
  {
   "cell_type": "code",
   "execution_count": null,
   "metadata": {},
   "outputs": [],
   "source": []
  }
 ],
 "metadata": {
  "kernelspec": {
   "display_name": "Python 3",
   "language": "python",
   "name": "python3"
  },
  "language_info": {
   "codemirror_mode": {
    "name": "ipython",
    "version": 3
   },
   "file_extension": ".py",
   "mimetype": "text/x-python",
   "name": "python",
   "nbconvert_exporter": "python",
   "pygments_lexer": "ipython3",
   "version": "3.7.4"
  }
 },
 "nbformat": 4,
 "nbformat_minor": 2
}

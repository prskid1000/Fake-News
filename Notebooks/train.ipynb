{
 "cells": [
  {
   "cell_type": "code",
   "execution_count": 1,
   "metadata": {},
   "outputs": [],
   "source": [
    "import numpy as np\n",
    "import pandas as pd\n",
    "import seaborn as sns\n",
    "import matplotlib.pyplot as plt"
   ]
  },
  {
   "cell_type": "code",
   "execution_count": 55,
   "metadata": {},
   "outputs": [
    {
     "name": "stdout",
     "output_type": "stream",
     "text": [
      "20761\n"
     ]
    }
   ],
   "source": [
    "df_1 = pd.read_csv(\"../Dataset/train.csv\", header=0, index_col=0)\n",
    "df_1 = df_1.drop(['title','author'], axis = 1)\n",
    "#df_1.isnull().sum(axis = 0)\n",
    "#df_1['author'] = df_1['author'].fillna('Anonymous')\n",
    "df_1.dropna(inplace = True)\n",
    "#df_1.isnull().sum(axis = 0)\n",
    "#df_1.head(3)\n",
    "print(len(df_1))"
   ]
  },
  {
   "cell_type": "code",
   "execution_count": 56,
   "metadata": {},
   "outputs": [
    {
     "name": "stdout",
     "output_type": "stream",
     "text": [
      "6420\n"
     ]
    }
   ],
   "source": [
    "df_2 = pd.read_csv(\"../Dataset/train2.csv\", header=0, index_col=0)\n",
    "df_2.dropna(inplace = True)\n",
    "#df_2.isnull().sum(axis = 0)\n",
    "label = []\n",
    "for i in df_2['label']:\n",
    "    if(i == 'real'):\n",
    "        label.append(1)\n",
    "    else:\n",
    "        label.append(0)\n",
    "df_2['label'] = label\n",
    "#df_2.head(3)\n",
    "print(len(df_2))"
   ]
  },
  {
   "cell_type": "code",
   "execution_count": 48,
   "metadata": {},
   "outputs": [
    {
     "data": {
      "text/html": [
       "<div>\n",
       "<style scoped>\n",
       "    .dataframe tbody tr th:only-of-type {\n",
       "        vertical-align: middle;\n",
       "    }\n",
       "\n",
       "    .dataframe tbody tr th {\n",
       "        vertical-align: top;\n",
       "    }\n",
       "\n",
       "    .dataframe thead th {\n",
       "        text-align: right;\n",
       "    }\n",
       "</style>\n",
       "<table border=\"1\" class=\"dataframe\">\n",
       "  <thead>\n",
       "    <tr style=\"text-align: right;\">\n",
       "      <th></th>\n",
       "      <th>news</th>\n",
       "      <th>label</th>\n",
       "    </tr>\n",
       "    <tr>\n",
       "      <th>id</th>\n",
       "      <th></th>\n",
       "      <th></th>\n",
       "    </tr>\n",
       "  </thead>\n",
       "  <tbody>\n",
       "    <tr>\n",
       "      <td>0</td>\n",
       "      <td>House Dem Aide: We Didn’t Even See Comey’s Let...</td>\n",
       "      <td>1</td>\n",
       "    </tr>\n",
       "    <tr>\n",
       "      <td>1</td>\n",
       "      <td>Ever get the feeling your life circles the rou...</td>\n",
       "      <td>0</td>\n",
       "    </tr>\n",
       "    <tr>\n",
       "      <td>2</td>\n",
       "      <td>Why the Truth Might Get You Fired October 29, ...</td>\n",
       "      <td>1</td>\n",
       "    </tr>\n",
       "  </tbody>\n",
       "</table>\n",
       "</div>"
      ],
      "text/plain": [
       "                                                 news  label\n",
       "id                                                          \n",
       "0   House Dem Aide: We Didn’t Even See Comey’s Let...      1\n",
       "1   Ever get the feeling your life circles the rou...      0\n",
       "2   Why the Truth Might Get You Fired October 29, ...      1"
      ]
     },
     "execution_count": 48,
     "metadata": {},
     "output_type": "execute_result"
    }
   ],
   "source": [
    "df = pd.DataFrame()\n",
    "df['news'] = df_1['text'].append(df_2['tweet'])\n",
    "df['label'] = df_1['label'].append(df_2['label'])\n",
    "df.head(3)"
   ]
  },
  {
   "cell_type": "code",
   "execution_count": null,
   "metadata": {},
   "outputs": [],
   "source": [
    "#df['author'].unique()\n",
    "#Calculating probility of an article written by an author is not fake\n",
    "#prob = {}\n",
    "#for i in df['author'].unique():\n",
    "#    t = len(df[(df['label'] == 1) & (df['author'] == i)])\n",
    "#    f = len(df[(df['label'] == 0) & (df['author'] == i)])\n",
    "#    prob[i] = t / (t + f)\n",
    "#print(prob)\n",
    "\n",
    "#new_col = []\n",
    "#for i in df['author']:\n",
    "#    new_col.append(prob[i])\n",
    "#print(new_col)\n",
    "\n",
    "#df['Author Honesty'] = new_col\n",
    "#df.head(10)"
   ]
  },
  {
   "cell_type": "code",
   "execution_count": null,
   "metadata": {},
   "outputs": [],
   "source": [
    "#import nltk\n",
    "#nltk.download('punkt')\n",
    "#from nltk.tokenize import word_tokenize\n",
    "#word_tokenize(\"Hello Wolrd!\")\n",
    "\n",
    "#from collections import Counter\n",
    "#titleToken = []\n",
    "#bodyToken = []\n",
    "#for i in df['title']:\n",
    "#    titleToken.append(word_tokenize(i.lower()))\n",
    "    \n",
    "#for i in df['text']:\n",
    "#    bodyToken.append(word_tokenize(i.lower()))"
   ]
  },
  {
   "cell_type": "code",
   "execution_count": null,
   "metadata": {},
   "outputs": [],
   "source": [
    "#from gensim.corpora.dictionary import Dictionary\n",
    "#dictionary = Dictionary(titleToken + bodyToken) \n",
    "##print(dictionary.token2id)\n",
    "\n",
    "#titleCorpus = [dictionary.doc2bow(doc) for doc in titleToken]\n",
    "#bodyCorpus = [dictionary.doc2bow(doc) for doc in bodyToken]\n",
    "\n",
    "#from gensim.models.tfidfmodel import TfidfModel\n",
    "#titleTfidf = TfidfModel(titleCorpus)\n",
    "#bodyTfidf = TfidfModel(titleCorpus)"
   ]
  },
  {
   "cell_type": "code",
   "execution_count": null,
   "metadata": {},
   "outputs": [],
   "source": [
    "#from sklearn.feature_extraction.text import CountVectorizer\n",
    "#countVectorizer = CountVectorizer(stop_words='english')\n",
    "#titleCountVector = countVectorizer.fit_transform(df['title']) \n",
    "#bodyCountVector = countVectorizer.fit_transform(df['text']) "
   ]
  },
  {
   "cell_type": "code",
   "execution_count": 49,
   "metadata": {},
   "outputs": [],
   "source": [
    "from sklearn.feature_extraction.text import TfidfVectorizer\n",
    "tfidfVectorizer = TfidfVectorizer(stop_words='english')\n",
    "newsTfidfVector = tfidfVectorizer.fit_transform(df['news'])  "
   ]
  },
  {
   "cell_type": "code",
   "execution_count": 51,
   "metadata": {},
   "outputs": [
    {
     "data": {
      "text/plain": [
       "(27181, 187763)"
      ]
     },
     "execution_count": 51,
     "metadata": {},
     "output_type": "execute_result"
    }
   ],
   "source": [
    "newsTfidfVector.shape"
   ]
  },
  {
   "cell_type": "code",
   "execution_count": 52,
   "metadata": {},
   "outputs": [],
   "source": [
    "np.savez_compressed(\"../Dataset/train.npz\",news = newsTfidfVector, label = df['label'])"
   ]
  },
  {
   "cell_type": "code",
   "execution_count": 53,
   "metadata": {},
   "outputs": [
    {
     "data": {
      "text/plain": [
       "['news', 'label']"
      ]
     },
     "execution_count": 53,
     "metadata": {},
     "output_type": "execute_result"
    }
   ],
   "source": [
    "data = np.load(\"../Dataset/train.npz\", allow_pickle=True)\n",
    "data.files"
   ]
  },
  {
   "cell_type": "code",
   "execution_count": 54,
   "metadata": {},
   "outputs": [
    {
     "name": "stdout",
     "output_type": "stream",
     "text": [
      "  (0, 160614)\t0.04984610165581392\n",
      "  (0, 92755)\t0.04736235930566197\n",
      "  (0, 25266)\t0.02383807679366534\n",
      "  (0, 31035)\t0.02619537362954105\n",
      "  (0, 52941)\t0.019554064908716712\n",
      "  (0, 33652)\t0.06232866857109771\n",
      "  (0, 38483)\t0.050307599675913965\n",
      "  (0, 56312)\t0.01684447955684817\n",
      "  (0, 99750)\t0.04093284622245842\n",
      "  (0, 90709)\t0.028191374403808547\n",
      "  (0, 160554)\t0.013223719102589496\n",
      "  (0, 6603)\t0.036438666783370634\n",
      "  (0, 140556)\t0.030617967799776172\n",
      "  (0, 72631)\t0.02420011951217913\n",
      "  (0, 132798)\t0.029111346691851857\n",
      "  (0, 128092)\t0.031924314065711216\n",
      "  (0, 137263)\t0.021720530338712424\n",
      "  (0, 41189)\t0.026822439602633977\n",
      "  (0, 85691)\t0.023433469014583458\n",
      "  (0, 149749)\t0.04142593690946193\n",
      "  (0, 29982)\t0.052627903064040395\n",
      "  (0, 28848)\t0.03922710609296314\n",
      "  (0, 101078)\t0.03273112287533327\n",
      "  (0, 148590)\t0.02526899300028926\n",
      "  (0, 139435)\t0.03237756248176545\n",
      "  :\t:\n",
      "  (27179, 44397)\t0.2819554106405322\n",
      "  (27179, 121480)\t0.2722134639855377\n",
      "  (27179, 26884)\t0.31554737706336683\n",
      "  (27179, 112139)\t0.26661490858031434\n",
      "  (27179, 58244)\t0.23425395563746662\n",
      "  (27180, 35725)\t0.3336703981735507\n",
      "  (27180, 117621)\t0.2922161197068019\n",
      "  (27180, 5498)\t0.28402451320484257\n",
      "  (27180, 75669)\t0.24641418005111862\n",
      "  (27180, 52992)\t0.2310859267977926\n",
      "  (27180, 86953)\t0.2918437589101521\n",
      "  (27180, 161709)\t0.26097436836266624\n",
      "  (27180, 89715)\t0.2036160010350196\n",
      "  (27180, 146290)\t0.16438913738693428\n",
      "  (27180, 27296)\t0.15022965218844003\n",
      "  (27180, 102723)\t0.13468271094720197\n",
      "  (27180, 7129)\t0.2564900189770148\n",
      "  (27180, 7233)\t0.1978815996579545\n",
      "  (27180, 135688)\t0.16724386429871435\n",
      "  (27180, 1510)\t0.3047143139980205\n",
      "  (27180, 100551)\t0.08513391143215981\n",
      "  (27180, 150920)\t0.2244477323700204\n",
      "  (27180, 38804)\t0.12683585195842942\n",
      "  (27180, 2264)\t0.1707562927529406\n",
      "  (27180, 27286)\t0.13181801130017526\n"
     ]
    }
   ],
   "source": [
    "print(data['news'])"
   ]
  },
  {
   "cell_type": "code",
   "execution_count": null,
   "metadata": {},
   "outputs": [],
   "source": []
  }
 ],
 "metadata": {
  "kernelspec": {
   "display_name": "Python 3",
   "language": "python",
   "name": "python3"
  },
  "language_info": {
   "codemirror_mode": {
    "name": "ipython",
    "version": 3
   },
   "file_extension": ".py",
   "mimetype": "text/x-python",
   "name": "python",
   "nbconvert_exporter": "python",
   "pygments_lexer": "ipython3",
   "version": "3.7.4"
  }
 },
 "nbformat": 4,
 "nbformat_minor": 2
}

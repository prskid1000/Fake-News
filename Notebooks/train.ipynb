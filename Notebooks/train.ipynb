{
 "cells": [
  {
   "cell_type": "code",
   "execution_count": 3,
   "metadata": {},
   "outputs": [],
   "source": [
    "import numpy as np\n",
    "import pandas as pd\n",
    "import seaborn as sns\n",
    "import matplotlib.pyplot as plt"
   ]
  },
  {
   "cell_type": "code",
   "execution_count": 4,
   "metadata": {},
   "outputs": [
    {
     "name": "stdout",
     "output_type": "stream",
     "text": [
      "20761\n"
     ]
    }
   ],
   "source": [
    "df_1 = pd.read_csv(\"../Dataset/train.csv\", header=0, index_col=0)\n",
    "df_1 = df_1.drop(['title','author'], axis = 1)\n",
    "#df_1.isnull().sum(axis = 0)\n",
    "#df_1['author'] = df_1['author'].fillna('Anonymous')\n",
    "df_1.dropna(inplace = True)\n",
    "#df_1.isnull().sum(axis = 0)\n",
    "#df_1.head(3)\n",
    "print(len(df_1))"
   ]
  },
  {
   "cell_type": "code",
   "execution_count": 5,
   "metadata": {},
   "outputs": [
    {
     "name": "stdout",
     "output_type": "stream",
     "text": [
      "6420\n"
     ]
    }
   ],
   "source": [
    "df_2 = pd.read_csv(\"../Dataset/train2.csv\", header=0, index_col=0)\n",
    "df_2.dropna(inplace = True)\n",
    "#df_2.isnull().sum(axis = 0)\n",
    "label = []\n",
    "for i in df_2['label']:\n",
    "    if(i == 'real'):\n",
    "        label.append(1)\n",
    "    else:\n",
    "        label.append(0)\n",
    "df_2['label'] = label\n",
    "#df_2.head(3)\n",
    "print(len(df_2))"
   ]
  },
  {
   "cell_type": "code",
   "execution_count": 14,
   "metadata": {},
   "outputs": [
    {
     "data": {
      "text/html": [
       "<div>\n",
       "<style scoped>\n",
       "    .dataframe tbody tr th:only-of-type {\n",
       "        vertical-align: middle;\n",
       "    }\n",
       "\n",
       "    .dataframe tbody tr th {\n",
       "        vertical-align: top;\n",
       "    }\n",
       "\n",
       "    .dataframe thead th {\n",
       "        text-align: right;\n",
       "    }\n",
       "</style>\n",
       "<table border=\"1\" class=\"dataframe\">\n",
       "  <thead>\n",
       "    <tr style=\"text-align: right;\">\n",
       "      <th></th>\n",
       "      <th>tweet</th>\n",
       "      <th>label</th>\n",
       "    </tr>\n",
       "  </thead>\n",
       "  <tbody>\n",
       "    <tr>\n",
       "      <td>0</td>\n",
       "      <td>Travellers should adhere to strict hygiene mea...</td>\n",
       "      <td>1</td>\n",
       "    </tr>\n",
       "    <tr>\n",
       "      <td>1</td>\n",
       "      <td>For the first time in the post-war history of ...</td>\n",
       "      <td>1</td>\n",
       "    </tr>\n",
       "    <tr>\n",
       "      <td>2</td>\n",
       "      <td>Be understing, a Japanese doctor offers excell...</td>\n",
       "      <td>0</td>\n",
       "    </tr>\n",
       "  </tbody>\n",
       "</table>\n",
       "</div>"
      ],
      "text/plain": [
       "                                               tweet  label\n",
       "0  Travellers should adhere to strict hygiene mea...      1\n",
       "1  For the first time in the post-war history of ...      1\n",
       "2  Be understing, a Japanese doctor offers excell...      0"
      ]
     },
     "execution_count": 14,
     "metadata": {},
     "output_type": "execute_result"
    }
   ],
   "source": [
    "df_3 = pd.read_csv(\"../Dataset/train3.csv\", header=0)\n",
    "df_3.dropna(inplace = True)\n",
    "#df_3.isnull().sum(axis = 0)\n",
    "df_3.head(3)\n",
    "#print(len(df_3))"
   ]
  },
  {
   "cell_type": "code",
   "execution_count": 16,
   "metadata": {},
   "outputs": [
    {
     "name": "stdout",
     "output_type": "stream",
     "text": [
      "29884\n"
     ]
    }
   ],
   "source": [
    "df = pd.DataFrame()\n",
    "df['news'] = df_1['text'].append(df_2['tweet']).append(df_3['tweet'])\n",
    "df['label'] = df_1['label'].append(df_2['label']).append(df_3['label'])\n",
    "#df.head(3)\n",
    "print(len(df))"
   ]
  },
  {
   "cell_type": "code",
   "execution_count": null,
   "metadata": {},
   "outputs": [],
   "source": [
    "#df['author'].unique()\n",
    "#Calculating probility of an article written by an author is not fake\n",
    "#prob = {}\n",
    "#for i in df['author'].unique():\n",
    "#    t = len(df[(df['label'] == 1) & (df['author'] == i)])\n",
    "#    f = len(df[(df['label'] == 0) & (df['author'] == i)])\n",
    "#    prob[i] = t / (t + f)\n",
    "#print(prob)\n",
    "\n",
    "#new_col = []\n",
    "#for i in df['author']:\n",
    "#    new_col.append(prob[i])\n",
    "#print(new_col)\n",
    "\n",
    "#df['Author Honesty'] = new_col\n",
    "#df.head(10)"
   ]
  },
  {
   "cell_type": "code",
   "execution_count": null,
   "metadata": {},
   "outputs": [],
   "source": [
    "#import nltk\n",
    "#nltk.download('punkt')\n",
    "#from nltk.tokenize import word_tokenize\n",
    "#word_tokenize(\"Hello Wolrd!\")\n",
    "\n",
    "#from collections import Counter\n",
    "#titleToken = []\n",
    "#bodyToken = []\n",
    "#for i in df['title']:\n",
    "#    titleToken.append(word_tokenize(i.lower()))\n",
    "    \n",
    "#for i in df['text']:\n",
    "#    bodyToken.append(word_tokenize(i.lower()))"
   ]
  },
  {
   "cell_type": "code",
   "execution_count": null,
   "metadata": {},
   "outputs": [],
   "source": [
    "#from gensim.corpora.dictionary import Dictionary\n",
    "#dictionary = Dictionary(titleToken + bodyToken) \n",
    "##print(dictionary.token2id)\n",
    "\n",
    "#titleCorpus = [dictionary.doc2bow(doc) for doc in titleToken]\n",
    "#bodyCorpus = [dictionary.doc2bow(doc) for doc in bodyToken]\n",
    "\n",
    "#from gensim.models.tfidfmodel import TfidfModel\n",
    "#titleTfidf = TfidfModel(titleCorpus)\n",
    "#bodyTfidf = TfidfModel(titleCorpus)"
   ]
  },
  {
   "cell_type": "code",
   "execution_count": null,
   "metadata": {},
   "outputs": [],
   "source": [
    "#from sklearn.feature_extraction.text import CountVectorizer\n",
    "#countVectorizer = CountVectorizer(stop_words='english')\n",
    "#titleCountVector = countVectorizer.fit_transform(df['title']) \n",
    "#bodyCountVector = countVectorizer.fit_transform(df['text']) "
   ]
  },
  {
   "cell_type": "code",
   "execution_count": 17,
   "metadata": {},
   "outputs": [],
   "source": [
    "from sklearn.feature_extraction.text import TfidfVectorizer\n",
    "tfidfVectorizer = TfidfVectorizer(stop_words='english')\n",
    "newsTfidfVector = tfidfVectorizer.fit_transform(df['news'])  "
   ]
  },
  {
   "cell_type": "code",
   "execution_count": 18,
   "metadata": {},
   "outputs": [
    {
     "data": {
      "text/plain": [
       "(29884, 190804)"
      ]
     },
     "execution_count": 18,
     "metadata": {},
     "output_type": "execute_result"
    }
   ],
   "source": [
    "newsTfidfVector.shape"
   ]
  },
  {
   "cell_type": "code",
   "execution_count": 19,
   "metadata": {},
   "outputs": [],
   "source": [
    "np.savez_compressed(\"../Dataset/train.npz\",news = newsTfidfVector, label = df['label'])"
   ]
  },
  {
   "cell_type": "code",
   "execution_count": 20,
   "metadata": {},
   "outputs": [
    {
     "data": {
      "text/plain": [
       "['news', 'label']"
      ]
     },
     "execution_count": 20,
     "metadata": {},
     "output_type": "execute_result"
    }
   ],
   "source": [
    "data = np.load(\"../Dataset/train.npz\", allow_pickle=True)\n",
    "data.files"
   ]
  },
  {
   "cell_type": "code",
   "execution_count": 21,
   "metadata": {},
   "outputs": [
    {
     "name": "stdout",
     "output_type": "stream",
     "text": [
      "  (0, 163612)\t0.04967808901503126\n",
      "  (0, 94459)\t0.04722956797235648\n",
      "  (0, 25735)\t0.023730301055752363\n",
      "  (0, 31617)\t0.02625529677972094\n",
      "  (0, 53899)\t0.01966674360689811\n",
      "  (0, 34288)\t0.062118853957811894\n",
      "  (0, 39219)\t0.050133042651143545\n",
      "  (0, 57328)\t0.01689570973723537\n",
      "  (0, 101594)\t0.04070786308286542\n",
      "  (0, 92378)\t0.028330441845962215\n",
      "  (0, 163552)\t0.013353755088725898\n",
      "  (0, 6711)\t0.03637594581040429\n",
      "  (0, 143168)\t0.030553859596661688\n",
      "  (0, 73978)\t0.023766824144518625\n",
      "  (0, 135294)\t0.029106970977813864\n",
      "  (0, 130509)\t0.03163263976314334\n",
      "  (0, 139817)\t0.02186876707756438\n",
      "  (0, 41966)\t0.026948761697534056\n",
      "  (0, 87280)\t0.02357321564179701\n",
      "  (0, 152521)\t0.041377328445816056\n",
      "  (0, 30546)\t0.05285640797486976\n",
      "  (0, 29386)\t0.03920967868007055\n",
      "  (0, 102973)\t0.032521011859671246\n",
      "  (0, 151348)\t0.025255783167299928\n",
      "  (0, 142027)\t0.03231125056029872\n",
      "  :\t:\n",
      "  (29879, 84841)\t0.5505334800016503\n",
      "  (29879, 157526)\t0.42304903368472085\n",
      "  (29879, 30149)\t0.3842239964118699\n",
      "  (29880, 18265)\t0.4803149500090436\n",
      "  (29880, 107967)\t0.37517851496495846\n",
      "  (29880, 14869)\t0.507417253128145\n",
      "  (29880, 138213)\t0.5301939484853662\n",
      "  (29880, 19053)\t0.2614661408667553\n",
      "  (29880, 111532)\t0.1469564428806351\n",
      "  (29881, 4183)\t0.5557095246147088\n",
      "  (29881, 129915)\t0.4342397202829462\n",
      "  (29881, 36360)\t0.4705205481413959\n",
      "  (29881, 68363)\t0.4178619816679499\n",
      "  (29881, 139212)\t0.32653417529308804\n",
      "  (29882, 74507)\t0.41650094819027966\n",
      "  (29882, 9504)\t0.46998560930980526\n",
      "  (29882, 122802)\t0.5468463966612465\n",
      "  (29882, 46129)\t0.45255611654958494\n",
      "  (29882, 126343)\t0.31904931755209653\n",
      "  (29883, 74942)\t0.4495342162539179\n",
      "  (29883, 82306)\t0.38497242220608807\n",
      "  (29883, 43983)\t0.462400769097569\n",
      "  (29883, 21704)\t0.4612223820853892\n",
      "  (29883, 34763)\t0.39808919378697716\n",
      "  (29883, 157526)\t0.25436127722049945\n"
     ]
    }
   ],
   "source": [
    "print(data['news'])"
   ]
  },
  {
   "cell_type": "code",
   "execution_count": null,
   "metadata": {},
   "outputs": [],
   "source": []
  }
 ],
 "metadata": {
  "kernelspec": {
   "display_name": "Python 3",
   "language": "python",
   "name": "python3"
  },
  "language_info": {
   "codemirror_mode": {
    "name": "ipython",
    "version": 3
   },
   "file_extension": ".py",
   "mimetype": "text/x-python",
   "name": "python",
   "nbconvert_exporter": "python",
   "pygments_lexer": "ipython3",
   "version": "3.7.4"
  }
 },
 "nbformat": 4,
 "nbformat_minor": 2
}

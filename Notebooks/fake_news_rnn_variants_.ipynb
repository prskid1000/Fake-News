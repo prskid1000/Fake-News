{
  "nbformat": 4,
  "nbformat_minor": 0,
  "metadata": {
    "kernelspec": {
      "language": "python",
      "display_name": "Python 3",
      "name": "python3"
    },
    "language_info": {
      "name": "python",
      "version": "3.7.10",
      "mimetype": "text/x-python",
      "codemirror_mode": {
        "name": "ipython",
        "version": 3
      },
      "pygments_lexer": "ipython3",
      "nbconvert_exporter": "python",
      "file_extension": ".py"
    },
    "colab": {
      "name": "fake-news-rnn-variants .ipynb",
      "provenance": []
    },
    "accelerator": "GPU"
  },
  "cells": [
    {
      "cell_type": "code",
      "metadata": {
        "colab": {
          "base_uri": "https://localhost:8080/"
        },
        "id": "TymKjsOlbojL",
        "outputId": "a176f22c-b064-4607-ed31-2d1088cbb2d3"
      },
      "source": [
        "! pip install kaggle"
      ],
      "execution_count": 1,
      "outputs": [
        {
          "output_type": "stream",
          "name": "stdout",
          "text": [
            "Requirement already satisfied: kaggle in /usr/local/lib/python3.7/dist-packages (1.5.12)\n",
            "Requirement already satisfied: certifi in /usr/local/lib/python3.7/dist-packages (from kaggle) (2021.10.8)\n",
            "Requirement already satisfied: python-slugify in /usr/local/lib/python3.7/dist-packages (from kaggle) (5.0.2)\n",
            "Requirement already satisfied: six>=1.10 in /usr/local/lib/python3.7/dist-packages (from kaggle) (1.15.0)\n",
            "Requirement already satisfied: urllib3 in /usr/local/lib/python3.7/dist-packages (from kaggle) (1.24.3)\n",
            "Requirement already satisfied: python-dateutil in /usr/local/lib/python3.7/dist-packages (from kaggle) (2.8.2)\n",
            "Requirement already satisfied: requests in /usr/local/lib/python3.7/dist-packages (from kaggle) (2.23.0)\n",
            "Requirement already satisfied: tqdm in /usr/local/lib/python3.7/dist-packages (from kaggle) (4.62.3)\n",
            "Requirement already satisfied: text-unidecode>=1.3 in /usr/local/lib/python3.7/dist-packages (from python-slugify->kaggle) (1.3)\n",
            "Requirement already satisfied: chardet<4,>=3.0.2 in /usr/local/lib/python3.7/dist-packages (from requests->kaggle) (3.0.4)\n",
            "Requirement already satisfied: idna<3,>=2.5 in /usr/local/lib/python3.7/dist-packages (from requests->kaggle) (2.10)\n"
          ]
        }
      ]
    },
    {
      "cell_type": "code",
      "metadata": {
        "id": "EYtCb-jsZZ2k"
      },
      "source": [
        "! mkdir ~/.kaggle"
      ],
      "execution_count": 2,
      "outputs": []
    },
    {
      "cell_type": "code",
      "metadata": {
        "id": "aclV4CpBZl82"
      },
      "source": [
        "! cp kaggle.json ~/.kaggle/ \n",
        "! chmod 600 ~/.kaggle/kaggle.json\n"
      ],
      "execution_count": 3,
      "outputs": []
    },
    {
      "cell_type": "code",
      "metadata": {
        "colab": {
          "base_uri": "https://localhost:8080/"
        },
        "id": "2TZYv6L9bBBY",
        "outputId": "9d816413-60eb-42f1-915a-77f7cebaa2d4"
      },
      "source": [
        "! kaggle competitions download -c fake-news"
      ],
      "execution_count": 4,
      "outputs": [
        {
          "output_type": "stream",
          "name": "stdout",
          "text": [
            "Warning: Looks like you're using an outdated API Version, please consider updating (server 1.5.12 / client 1.5.4)\n",
            "Downloading train.csv.zip to /content\n",
            " 76% 28.0M/37.0M [00:00<00:00, 75.5MB/s]\n",
            "100% 37.0M/37.0M [00:00<00:00, 124MB/s] \n",
            "Downloading test.csv.zip to /content\n",
            "  0% 0.00/9.42M [00:00<?, ?B/s]\n",
            "100% 9.42M/9.42M [00:00<00:00, 86.7MB/s]\n",
            "Downloading submit.csv to /content\n",
            "  0% 0.00/40.6k [00:00<?, ?B/s]\n",
            "100% 40.6k/40.6k [00:00<00:00, 43.8MB/s]\n"
          ]
        }
      ]
    },
    {
      "cell_type": "code",
      "metadata": {
        "colab": {
          "base_uri": "https://localhost:8080/"
        },
        "id": "GGvdBBBjbL2h",
        "outputId": "b2814138-03fb-4efe-b0bb-c402dfe76a34"
      },
      "source": [
        "! unzip train.csv.zip"
      ],
      "execution_count": 5,
      "outputs": [
        {
          "output_type": "stream",
          "name": "stdout",
          "text": [
            "Archive:  train.csv.zip\n",
            "  inflating: train.csv               \n"
          ]
        }
      ]
    },
    {
      "cell_type": "code",
      "metadata": {
        "colab": {
          "base_uri": "https://localhost:8080/"
        },
        "id": "-jCKM8MTclaQ",
        "outputId": "a6187283-0d5b-46cb-c8e2-e22fe24d6c78"
      },
      "source": [
        " ! unzip test.csv.zip"
      ],
      "execution_count": 6,
      "outputs": [
        {
          "output_type": "stream",
          "name": "stdout",
          "text": [
            "Archive:  test.csv.zip\n",
            "  inflating: test.csv                \n"
          ]
        }
      ]
    },
    {
      "cell_type": "code",
      "metadata": {
        "execution": {
          "iopub.status.busy": "2021-11-30T08:08:54.335785Z",
          "iopub.execute_input": "2021-11-30T08:08:54.336056Z",
          "iopub.status.idle": "2021-11-30T08:09:01.003898Z",
          "shell.execute_reply.started": "2021-11-30T08:08:54.336029Z",
          "shell.execute_reply": "2021-11-30T08:09:01.00302Z"
        },
        "trusted": true,
        "colab": {
          "base_uri": "https://localhost:8080/"
        },
        "id": "Jx9Mtj2QVsJa",
        "outputId": "11114e1a-3b1e-437f-9469-b243e25a5add"
      },
      "source": [
        "#dependencies\n",
        "import warnings\n",
        "warnings.filterwarnings(\"ignore\")\n",
        "!pip install contractions\n",
        "!pip install kaggle_datasets\n",
        "import nltk\n",
        "nltk.download('stopwords')\n",
        "nltk.download('punkt')\n",
        "nltk.download('words')\n",
        "nltk.download('wordnet')\n",
        "\n",
        "import re\n",
        "import pickle\n",
        "import numpy as np\n",
        "import pandas as pd\n",
        "import contractions\n",
        "import seaborn as sns\n",
        "import matplotlib.pyplot as plt\n",
        "from nltk.corpus import stopwords\n",
        "from nltk.stem import WordNetLemmatizer\n",
        "from tensorflow.keras.preprocessing.text import Tokenizer\n",
        "from tensorflow.keras.preprocessing.sequence import pad_sequences\n",
        "from tensorflow.keras.models import Sequential\n",
        "from tensorflow.keras.layers import Dense, Embedding, LSTM, Conv1D, MaxPooling1D, Dropout, BatchNormalization\n",
        "from sklearn.model_selection import train_test_split\n",
        "from sklearn.metrics import classification_report, accuracy_score\n",
        "import gensim\n",
        "from sklearn.metrics import confusion_matrix\n",
        "import tensorflow  as tf \n",
        "from tensorflow.keras.models import Model, load_model\n",
        "#from tensorflow.keras.callbacks import ReduceLROnPlateau, LearningRateScheduler, EarlyStopping, ModelCheckpoint\n",
        "#from kaggle_datasets import KaggleDatasets\n",
        "#import transformers\n",
        "#from transformers import TFAutoModel, AutoTokenizer\n",
        "#from tqdm.notebook import tqdm\n",
        "#from tokenizers import Tokenizer\n",
        "from tensorflow.keras.layers import Input, Dense\n",
        "from tensorflow.keras.optimizers import Adam\n",
        "import tensorflow.keras"
      ],
      "execution_count": 7,
      "outputs": [
        {
          "output_type": "stream",
          "name": "stdout",
          "text": [
            "Collecting contractions\n",
            "  Downloading contractions-0.0.58-py2.py3-none-any.whl (8.0 kB)\n",
            "Collecting textsearch>=0.0.21\n",
            "  Downloading textsearch-0.0.21-py2.py3-none-any.whl (7.5 kB)\n",
            "Collecting anyascii\n",
            "  Downloading anyascii-0.3.0-py3-none-any.whl (284 kB)\n",
            "\u001b[?25l\r\u001b[K     |█▏                              | 10 kB 30.6 MB/s eta 0:00:01\r\u001b[K     |██▎                             | 20 kB 13.5 MB/s eta 0:00:01\r\u001b[K     |███▌                            | 30 kB 12.9 MB/s eta 0:00:01\r\u001b[K     |████▋                           | 40 kB 12.2 MB/s eta 0:00:01\r\u001b[K     |█████▊                          | 51 kB 4.8 MB/s eta 0:00:01\r\u001b[K     |███████                         | 61 kB 5.7 MB/s eta 0:00:01\r\u001b[K     |████████                        | 71 kB 5.7 MB/s eta 0:00:01\r\u001b[K     |█████████▏                      | 81 kB 6.2 MB/s eta 0:00:01\r\u001b[K     |██████████▍                     | 92 kB 6.8 MB/s eta 0:00:01\r\u001b[K     |███████████▌                    | 102 kB 5.4 MB/s eta 0:00:01\r\u001b[K     |████████████▊                   | 112 kB 5.4 MB/s eta 0:00:01\r\u001b[K     |█████████████▉                  | 122 kB 5.4 MB/s eta 0:00:01\r\u001b[K     |███████████████                 | 133 kB 5.4 MB/s eta 0:00:01\r\u001b[K     |████████████████▏               | 143 kB 5.4 MB/s eta 0:00:01\r\u001b[K     |█████████████████▎              | 153 kB 5.4 MB/s eta 0:00:01\r\u001b[K     |██████████████████▍             | 163 kB 5.4 MB/s eta 0:00:01\r\u001b[K     |███████████████████▋            | 174 kB 5.4 MB/s eta 0:00:01\r\u001b[K     |████████████████████▊           | 184 kB 5.4 MB/s eta 0:00:01\r\u001b[K     |██████████████████████          | 194 kB 5.4 MB/s eta 0:00:01\r\u001b[K     |███████████████████████         | 204 kB 5.4 MB/s eta 0:00:01\r\u001b[K     |████████████████████████▏       | 215 kB 5.4 MB/s eta 0:00:01\r\u001b[K     |█████████████████████████▍      | 225 kB 5.4 MB/s eta 0:00:01\r\u001b[K     |██████████████████████████▌     | 235 kB 5.4 MB/s eta 0:00:01\r\u001b[K     |███████████████████████████▋    | 245 kB 5.4 MB/s eta 0:00:01\r\u001b[K     |████████████████████████████▉   | 256 kB 5.4 MB/s eta 0:00:01\r\u001b[K     |██████████████████████████████  | 266 kB 5.4 MB/s eta 0:00:01\r\u001b[K     |███████████████████████████████▏| 276 kB 5.4 MB/s eta 0:00:01\r\u001b[K     |████████████████████████████████| 284 kB 5.4 MB/s \n",
            "\u001b[?25hCollecting pyahocorasick\n",
            "  Downloading pyahocorasick-1.4.2.tar.gz (321 kB)\n",
            "\u001b[K     |████████████████████████████████| 321 kB 42.6 MB/s \n",
            "\u001b[?25hBuilding wheels for collected packages: pyahocorasick\n",
            "  Building wheel for pyahocorasick (setup.py) ... \u001b[?25l\u001b[?25hdone\n",
            "  Created wheel for pyahocorasick: filename=pyahocorasick-1.4.2-cp37-cp37m-linux_x86_64.whl size=85446 sha256=9ae32c4ab5db9e02e77fb948330ad2e45118793af33f71f62aa1f241a6ca2b2d\n",
            "  Stored in directory: /root/.cache/pip/wheels/25/19/a6/8f363d9939162782bb8439d886469756271abc01f76fbd790f\n",
            "Successfully built pyahocorasick\n",
            "Installing collected packages: pyahocorasick, anyascii, textsearch, contractions\n",
            "Successfully installed anyascii-0.3.0 contractions-0.0.58 pyahocorasick-1.4.2 textsearch-0.0.21\n",
            "\u001b[31mERROR: Could not find a version that satisfies the requirement kaggle_datasets (from versions: none)\u001b[0m\n",
            "\u001b[31mERROR: No matching distribution found for kaggle_datasets\u001b[0m\n",
            "[nltk_data] Downloading package stopwords to /root/nltk_data...\n",
            "[nltk_data]   Unzipping corpora/stopwords.zip.\n",
            "[nltk_data] Downloading package punkt to /root/nltk_data...\n",
            "[nltk_data]   Unzipping tokenizers/punkt.zip.\n",
            "[nltk_data] Downloading package words to /root/nltk_data...\n",
            "[nltk_data]   Unzipping corpora/words.zip.\n",
            "[nltk_data] Downloading package wordnet to /root/nltk_data...\n",
            "[nltk_data]   Unzipping corpora/wordnet.zip.\n"
          ]
        }
      ]
    },
    {
      "cell_type": "code",
      "metadata": {
        "execution": {
          "iopub.status.busy": "2021-11-30T07:55:29.664946Z",
          "iopub.execute_input": "2021-11-30T07:55:29.665342Z",
          "iopub.status.idle": "2021-11-30T07:55:32.793721Z",
          "shell.execute_reply.started": "2021-11-30T07:55:29.665307Z",
          "shell.execute_reply": "2021-11-30T07:55:32.792852Z"
        },
        "trusted": true,
        "id": "Sj9A3IY5VsJe"
      },
      "source": [
        "df_2 = pd.read_csv(\"/content/train.csv\", header=0, index_col=0)\n",
        "df_t = pd.read_csv(\"/content/test.csv\", header=0, index_col=0)\n",
        "df_2 = df_2.drop(['title','author'], axis = 1)\n",
        "df_t = df_t.drop(['title','author'], axis = 1)\n",
        "df_2.dropna(inplace = True)\n",
        "df_t.fillna('',inplace = True)\n",
        "#print(df_2.isnull().sum(axis = 0))\n",
        "\n"
      ],
      "execution_count": 8,
      "outputs": []
    },
    {
      "cell_type": "code",
      "metadata": {
        "execution": {
          "iopub.status.busy": "2021-11-30T07:55:32.795847Z",
          "iopub.execute_input": "2021-11-30T07:55:32.796083Z",
          "iopub.status.idle": "2021-11-30T07:57:30.707834Z",
          "shell.execute_reply.started": "2021-11-30T07:55:32.79606Z",
          "shell.execute_reply": "2021-11-30T07:57:30.707113Z"
        },
        "trusted": true,
        "id": "6K4MfGXwVsJg"
      },
      "source": [
        "def clean_text(text_col ):\n",
        "    text_col = text_col.apply(lambda x: [contractions.fix(word, slang=False).lower() for word in x.split()])\n",
        "    text_col = text_col.apply(lambda x: [re.sub(r'[^\\w\\s]','', word)  for word in x])\n",
        "    stop_words = set(stopwords.words('english'))\n",
        "    text_col = text_col.apply(lambda x: [word for word in x if word not in stop_words])\n",
        "    text_col = text_col.apply(lambda x: [word for word in x if re.search(\"[@_!#$%^&*()<>?/|}{~:0-9]\", word) == None])\n",
        "    return text_col\n",
        "df_2[\"text\"] = clean_text(df_2[\"text\"])\n",
        "df_t[\"text\"] = clean_text(df_t[\"text\"])\n",
        "df_2['label'] = df_2['label'].apply(lambda x: int(x))\n",
        "y = df_2['label']"
      ],
      "execution_count": 9,
      "outputs": []
    },
    {
      "cell_type": "code",
      "metadata": {
        "execution": {
          "iopub.status.busy": "2021-11-30T08:10:56.274039Z",
          "iopub.execute_input": "2021-11-30T08:10:56.274658Z",
          "iopub.status.idle": "2021-11-30T08:10:56.278739Z",
          "shell.execute_reply.started": "2021-11-30T08:10:56.274618Z",
          "shell.execute_reply": "2021-11-30T08:10:56.277702Z"
        },
        "trusted": true,
        "id": "rYcLecLfVsJi",
        "colab": {
          "base_uri": "https://localhost:8080/"
        },
        "outputId": "5149d49a-a929-40cc-e876-6ea11d29ed13"
      },
      "source": [
        "y = df_2[\"label\"]\n",
        "type(y)"
      ],
      "execution_count": 26,
      "outputs": [
        {
          "output_type": "execute_result",
          "data": {
            "text/plain": [
              "pandas.core.series.Series"
            ]
          },
          "metadata": {},
          "execution_count": 26
        }
      ]
    },
    {
      "cell_type": "code",
      "metadata": {
        "execution": {
          "iopub.status.busy": "2021-11-30T07:59:17.067439Z",
          "iopub.execute_input": "2021-11-30T07:59:17.068188Z",
          "iopub.status.idle": "2021-11-30T07:59:56.920621Z",
          "shell.execute_reply.started": "2021-11-30T07:59:17.068122Z",
          "shell.execute_reply": "2021-11-30T07:59:56.919877Z"
        },
        "trusted": true,
        "id": "nX_4aEyvVsJk"
      },
      "source": [
        "#lemmatizing\n",
        "wordnet_lemmatizer = WordNetLemmatizer()\n",
        "x = []\n",
        "x_test = []\n",
        "english_words = set(nltk.corpus.words.words())\n",
        "for words in df_2['text']:\n",
        "        tmp = []\n",
        "        fil_wor = [wordnet_lemmatizer.lemmatize(word, 'n') for word in words if word in english_words]\n",
        "        tmp.extend(fil_wor)\n",
        "        x.append(tmp)\n",
        "        \n",
        "for words in df_t['text']:\n",
        "        tmp = []\n",
        "        fil_wor = [wordnet_lemmatizer.lemmatize(word, 'n') for word in words if word in english_words]\n",
        "        tmp.extend(fil_wor)\n",
        "        x_test.append(tmp)\n",
        "        \n",
        "df_2[\"text\"] = x\n",
        "df_t[\"text\"] = x_test\n"
      ],
      "execution_count": 12,
      "outputs": []
    },
    {
      "cell_type": "code",
      "metadata": {
        "execution": {
          "iopub.status.busy": "2021-11-30T08:00:04.617745Z",
          "iopub.execute_input": "2021-11-30T08:00:04.618098Z",
          "iopub.status.idle": "2021-11-30T08:01:03.866077Z",
          "shell.execute_reply.started": "2021-11-30T08:00:04.618057Z",
          "shell.execute_reply": "2021-11-30T08:01:03.864495Z"
        },
        "trusted": true,
        "colab": {
          "base_uri": "https://localhost:8080/"
        },
        "id": "wk9aMgC4VsJm",
        "outputId": "3eb7edfc-02cd-49cf-a9a8-fabb4ef0a620"
      },
      "source": [
        "#creating word embedding\n",
        "x_all = x.copy()\n",
        "for z in  range(len(x_test)):\n",
        "    x_all.append(x_test[z])\n",
        "#n of vectors we are generating\n",
        "EMBEDDING_DIM = 100\n",
        "#Creating Word Vectors by Word2Vec Method (takes time...)\n",
        "w2v_model = gensim.models.Word2Vec(sentences=x_all,size = EMBEDDING_DIM, window=5, min_count=1)\n",
        "#print(len(w2v_model.wv.vocab))\n",
        "\n",
        "#testing a word embedding\n",
        "print(w2v_model.wv[\"liberty\"])\n",
        "\n",
        "#similarity between words\n",
        "word = 'people'\n",
        "w2v_model.wv.most_similar(word)"
      ],
      "execution_count": 19,
      "outputs": [
        {
          "output_type": "stream",
          "name": "stdout",
          "text": [
            "[-1.0210294   0.7340223  -1.3515397   1.2159343  -2.2155366   0.98386794\n",
            " -2.1478333  -1.0651315   1.3340352  -0.76118726 -0.19682747 -0.49648327\n",
            "  0.24466458 -0.22960852  1.1910176  -0.29518983 -0.75640893  1.0930058\n",
            " -0.9135735   0.9034568  -0.74702567 -1.3447056  -0.296908   -1.9846973\n",
            "  1.0917635   1.0257062   0.26236418 -1.7354338   0.7083265  -0.4829227\n",
            " -1.3476304   0.04792267  1.4100169  -1.3920387   2.2693918  -0.5845117\n",
            "  0.84619063 -0.3403278   0.04559521  0.4004519  -0.9593401  -1.3295531\n",
            " -0.3842638  -0.23930159  0.01646848 -2.1531081   0.00339501 -0.45802894\n",
            "  0.95812047  0.548929   -0.38548955  1.0736966  -0.8208613  -0.51686925\n",
            " -1.1982942  -1.0538876   0.5093148  -1.2459188  -0.10957494  0.60706055\n",
            " -1.0909762  -1.0126141   1.1085215  -0.74704635 -1.2361974  -0.977472\n",
            "  0.5516059   0.52579004 -0.73004854  0.98155963 -1.0357928  -1.559598\n",
            "  0.18998474 -0.46584985 -2.8941953   1.6652561   0.23881184 -0.55997473\n",
            "  0.7288743  -0.5143686  -0.5086503  -0.24716623  0.8826993  -1.3392788\n",
            " -0.26590076  1.3130752   0.29442322  0.70897496  0.32348618 -1.2997293\n",
            "  0.63207126 -0.2590912  -0.34702674  1.2233503   1.3127444   1.5622797\n",
            "  0.30261007  1.6293068  -0.2646497   1.1336305 ]\n"
          ]
        },
        {
          "output_type": "execute_result",
          "data": {
            "text/plain": [
              "[('many', 0.5792583227157593),\n",
              " ('believe', 0.5112147331237793),\n",
              " ('person', 0.5102234482765198),\n",
              " ('everyone', 0.5060974955558777),\n",
              " ('honestly', 0.503677487373352),\n",
              " ('men', 0.4951854944229126),\n",
              " ('know', 0.4866536855697632),\n",
              " ('say', 0.4855126142501831),\n",
              " ('really', 0.47459936141967773),\n",
              " ('sadly', 0.47364482283592224)]"
            ]
          },
          "metadata": {},
          "execution_count": 19
        }
      ]
    },
    {
      "cell_type": "code",
      "metadata": {
        "execution": {
          "iopub.status.busy": "2021-11-30T08:09:22.399778Z",
          "iopub.execute_input": "2021-11-30T08:09:22.400063Z",
          "iopub.status.idle": "2021-11-30T08:09:30.010871Z",
          "shell.execute_reply.started": "2021-11-30T08:09:22.400026Z",
          "shell.execute_reply": "2021-11-30T08:09:30.010168Z"
        },
        "trusted": true,
        "id": "PvhjJrkOVsJp",
        "colab": {
          "base_uri": "https://localhost:8080/"
        },
        "outputId": "0010d887-d77e-44f0-95ef-1868fac5d698"
      },
      "source": [
        "#tokenizing\n",
        "tokenizer = Tokenizer()\n",
        "tokenizer.fit_on_texts(x)\n",
        "\n",
        "x = tokenizer.texts_to_sequences(x)\n",
        "x_test = tokenizer.texts_to_sequences(x_test)\n",
        "print(x[0][:10])\n",
        "\n",
        "word_index = tokenizer.word_index\n",
        "for word, num in word_index.items():\n",
        "    print(f\"{word} -> {num}\")\n",
        "    if num == 10:\n",
        "        break"
      ],
      "execution_count": 20,
      "outputs": [
        {
          "output_type": "stream",
          "name": "stdout",
          "text": [
            "[33, 1488, 14, 46, 496, 2055, 6721, 8233, 701, 2887]\n",
            "said -> 1\n",
            "trump -> 2\n",
            "one -> 3\n",
            "would -> 4\n",
            "people -> 5\n",
            "u -> 6\n",
            "time -> 7\n",
            "new -> 8\n",
            "like -> 9\n",
            "also -> 10\n"
          ]
        }
      ]
    },
    {
      "cell_type": "code",
      "metadata": {
        "execution": {
          "iopub.status.busy": "2021-11-30T08:09:52.874333Z",
          "iopub.execute_input": "2021-11-30T08:09:52.874798Z",
          "iopub.status.idle": "2021-11-30T08:09:54.231952Z",
          "shell.execute_reply.started": "2021-11-30T08:09:52.874763Z",
          "shell.execute_reply": "2021-11-30T08:09:54.231182Z"
        },
        "trusted": true,
        "id": "s5cpUbpUVsJu"
      },
      "source": [
        "#padding\n",
        "maxlen = 700\n",
        "x = pad_sequences(x, maxlen=maxlen)\n",
        "x_test = pad_sequences(x_test, maxlen=maxlen)"
      ],
      "execution_count": 21,
      "outputs": []
    },
    {
      "cell_type": "code",
      "metadata": {
        "execution": {
          "iopub.status.busy": "2021-11-30T08:09:58.861963Z",
          "iopub.execute_input": "2021-11-30T08:09:58.862688Z",
          "iopub.status.idle": "2021-11-30T08:09:58.988647Z",
          "shell.execute_reply.started": "2021-11-30T08:09:58.86265Z",
          "shell.execute_reply": "2021-11-30T08:09:58.987874Z"
        },
        "trusted": true,
        "id": "6de49bfjVsJx"
      },
      "source": [
        "# Function to create weight matrix from word2vec gensim model\n",
        "def get_weight_matrix(model, vocab):\n",
        "    # total vocabulary size plus 0 for unknown words\n",
        "    vocab_size = len(vocab) + 1\n",
        "    # define weight matrix dimensions with all 0\n",
        "    weight_matrix = np.zeros((vocab_size, EMBEDDING_DIM))\n",
        "    # step vocab, store vectors using the Tokenizer's integer mapping\n",
        "    for word, i in vocab.items():\n",
        "        weight_matrix[i] = model[word]\n",
        "    return weight_matrix, vocab_size\n",
        "\n",
        "#Getting embedding vectors from word2vec and usings it as weights of non-trainable keras embedding layer\n",
        "embedding_vectors, vocab_size = get_weight_matrix(w2v_model.wv, word_index)"
      ],
      "execution_count": 22,
      "outputs": []
    },
    {
      "cell_type": "code",
      "metadata": {
        "execution": {
          "iopub.status.busy": "2021-11-30T08:11:48.914815Z",
          "iopub.execute_input": "2021-11-30T08:11:48.915079Z",
          "iopub.status.idle": "2021-11-30T08:11:49.428709Z",
          "shell.execute_reply.started": "2021-11-30T08:11:48.915052Z",
          "shell.execute_reply": "2021-11-30T08:11:49.427849Z"
        },
        "trusted": true,
        "id": "cNYlQ686VsJy",
        "colab": {
          "base_uri": "https://localhost:8080/"
        },
        "outputId": "0ac71178-04f8-4823-e886-7d953820eaf7"
      },
      "source": [
        "#Defining Neural Network\n",
        "model = Sequential()\n",
        "#Non-trainable embeddidng layer\n",
        "model.add(Embedding(vocab_size, output_dim=EMBEDDING_DIM, weights=[embedding_vectors], input_length=maxlen, trainable=False))\n",
        "#LSTM \n",
        "model.add(Dropout(0.2))\n",
        "#model.add(Conv1D(filters=32, kernel_size=5, padding='same', activation='relu'))\n",
        "#model.add(MaxPooling1D(pool_size=2))\n",
        "model.add(Conv1D(filters=64, kernel_size=3, padding='same', activation='relu'))\n",
        "model.add(MaxPooling1D(pool_size=2))\n",
        "model.add(LSTM(units=128,dropout=0.2, return_sequences=True))\n",
        "model.add(BatchNormalization())\n",
        "model.add(LSTM(units=128,dropout=0.2))\n",
        "model.add(BatchNormalization())\n",
        "#model.add(Dropout(0.2))\n",
        "model.add(Dense(1, activation='sigmoid'))\n",
        "model.compile(optimizer='adam', loss='binary_crossentropy', metrics=['acc'])\n",
        "model.summary()\n"
      ],
      "execution_count": 23,
      "outputs": [
        {
          "output_type": "stream",
          "name": "stdout",
          "text": [
            "Model: \"sequential\"\n",
            "_________________________________________________________________\n",
            " Layer (type)                Output Shape              Param #   \n",
            "=================================================================\n",
            " embedding (Embedding)       (None, 700, 100)          3421500   \n",
            "                                                                 \n",
            " dropout (Dropout)           (None, 700, 100)          0         \n",
            "                                                                 \n",
            " conv1d (Conv1D)             (None, 700, 64)           19264     \n",
            "                                                                 \n",
            " max_pooling1d (MaxPooling1D  (None, 350, 64)          0         \n",
            " )                                                               \n",
            "                                                                 \n",
            " lstm (LSTM)                 (None, 350, 128)          98816     \n",
            "                                                                 \n",
            " batch_normalization (BatchN  (None, 350, 128)         512       \n",
            " ormalization)                                                   \n",
            "                                                                 \n",
            " lstm_1 (LSTM)               (None, 128)               131584    \n",
            "                                                                 \n",
            " batch_normalization_1 (Batc  (None, 128)              512       \n",
            " hNormalization)                                                 \n",
            "                                                                 \n",
            " dense (Dense)               (None, 1)                 129       \n",
            "                                                                 \n",
            "=================================================================\n",
            "Total params: 3,672,317\n",
            "Trainable params: 250,305\n",
            "Non-trainable params: 3,422,012\n",
            "_________________________________________________________________\n"
          ]
        }
      ]
    },
    {
      "cell_type": "code",
      "metadata": {
        "execution": {
          "iopub.status.busy": "2021-11-30T08:11:57.054631Z",
          "iopub.execute_input": "2021-11-30T08:11:57.05489Z",
          "iopub.status.idle": "2021-11-30T08:29:33.198818Z",
          "shell.execute_reply.started": "2021-11-30T08:11:57.054861Z",
          "shell.execute_reply": "2021-11-30T08:29:33.198065Z"
        },
        "trusted": true,
        "id": "_A6yCCmOVsJz",
        "colab": {
          "base_uri": "https://localhost:8080/"
        },
        "outputId": "5f25a859-b5a6-48f4-8dfd-a4779898da48"
      },
      "source": [
        "X_train, X_test, y_train, y_test = train_test_split(x, y)\n",
        "model.fit(X_train, y_train, validation_data= (X_test,y_test), epochs=50)"
      ],
      "execution_count": 27,
      "outputs": [
        {
          "output_type": "stream",
          "name": "stdout",
          "text": [
            "Epoch 1/50\n",
            "487/487 [==============================] - 85s 145ms/step - loss: 0.3440 - acc: 0.8537 - val_loss: 0.2814 - val_acc: 0.8867\n",
            "Epoch 2/50\n",
            "487/487 [==============================] - 69s 143ms/step - loss: 0.2385 - acc: 0.9016 - val_loss: 0.1876 - val_acc: 0.9247\n",
            "Epoch 3/50\n",
            "487/487 [==============================] - 68s 140ms/step - loss: 0.2010 - acc: 0.9207 - val_loss: 0.3125 - val_acc: 0.8835\n",
            "Epoch 4/50\n",
            "487/487 [==============================] - 69s 141ms/step - loss: 0.1812 - acc: 0.9277 - val_loss: 0.1578 - val_acc: 0.9422\n",
            "Epoch 5/50\n",
            "487/487 [==============================] - 69s 142ms/step - loss: 0.1774 - acc: 0.9305 - val_loss: 0.3380 - val_acc: 0.8835\n",
            "Epoch 6/50\n",
            "487/487 [==============================] - 69s 142ms/step - loss: 0.1648 - acc: 0.9355 - val_loss: 0.1584 - val_acc: 0.9362\n",
            "Epoch 7/50\n",
            "487/487 [==============================] - 69s 142ms/step - loss: 0.1468 - acc: 0.9421 - val_loss: 0.1554 - val_acc: 0.9347\n",
            "Epoch 8/50\n",
            "487/487 [==============================] - 69s 142ms/step - loss: 0.1411 - acc: 0.9437 - val_loss: 0.1678 - val_acc: 0.9378\n",
            "Epoch 9/50\n",
            "487/487 [==============================] - 69s 142ms/step - loss: 0.1300 - acc: 0.9505 - val_loss: 0.1619 - val_acc: 0.9376\n",
            "Epoch 10/50\n",
            "487/487 [==============================] - 69s 142ms/step - loss: 0.1323 - acc: 0.9489 - val_loss: 0.1662 - val_acc: 0.9405\n",
            "Epoch 11/50\n",
            "487/487 [==============================] - 69s 142ms/step - loss: 0.1182 - acc: 0.9534 - val_loss: 0.1411 - val_acc: 0.9411\n",
            "Epoch 12/50\n",
            "487/487 [==============================] - 68s 140ms/step - loss: 0.1151 - acc: 0.9561 - val_loss: 0.1419 - val_acc: 0.9459\n",
            "Epoch 13/50\n",
            "487/487 [==============================] - 68s 140ms/step - loss: 0.1112 - acc: 0.9579 - val_loss: 0.1552 - val_acc: 0.9414\n",
            "Epoch 14/50\n",
            "487/487 [==============================] - 68s 140ms/step - loss: 0.1063 - acc: 0.9593 - val_loss: 0.1583 - val_acc: 0.9403\n",
            "Epoch 15/50\n",
            "487/487 [==============================] - 68s 140ms/step - loss: 0.0920 - acc: 0.9658 - val_loss: 0.1821 - val_acc: 0.9395\n",
            "Epoch 16/50\n",
            "487/487 [==============================] - 68s 140ms/step - loss: 0.0936 - acc: 0.9647 - val_loss: 0.1592 - val_acc: 0.9441\n",
            "Epoch 17/50\n",
            "487/487 [==============================] - 68s 140ms/step - loss: 0.0959 - acc: 0.9633 - val_loss: 0.1585 - val_acc: 0.9403\n",
            "Epoch 18/50\n",
            "487/487 [==============================] - 68s 140ms/step - loss: 0.0877 - acc: 0.9665 - val_loss: 0.1868 - val_acc: 0.9449\n",
            "Epoch 19/50\n",
            "487/487 [==============================] - 68s 139ms/step - loss: 0.0857 - acc: 0.9684 - val_loss: 0.1714 - val_acc: 0.9395\n",
            "Epoch 20/50\n",
            "487/487 [==============================] - 68s 139ms/step - loss: 0.0811 - acc: 0.9700 - val_loss: 0.1621 - val_acc: 0.9466\n",
            "Epoch 21/50\n",
            "487/487 [==============================] - 68s 139ms/step - loss: 0.0781 - acc: 0.9708 - val_loss: 0.1786 - val_acc: 0.9449\n",
            "Epoch 22/50\n",
            "487/487 [==============================] - 68s 139ms/step - loss: 0.0795 - acc: 0.9696 - val_loss: 0.1702 - val_acc: 0.9412\n",
            "Epoch 23/50\n",
            "487/487 [==============================] - 68s 139ms/step - loss: 0.0693 - acc: 0.9733 - val_loss: 0.1706 - val_acc: 0.9468\n",
            "Epoch 24/50\n",
            "487/487 [==============================] - 68s 139ms/step - loss: 0.0752 - acc: 0.9732 - val_loss: 0.2391 - val_acc: 0.9293\n",
            "Epoch 25/50\n",
            "487/487 [==============================] - 68s 139ms/step - loss: 0.0622 - acc: 0.9775 - val_loss: 0.1845 - val_acc: 0.9447\n",
            "Epoch 26/50\n",
            "487/487 [==============================] - 68s 139ms/step - loss: 0.0609 - acc: 0.9766 - val_loss: 0.1802 - val_acc: 0.9484\n",
            "Epoch 27/50\n",
            "487/487 [==============================] - 68s 140ms/step - loss: 0.0649 - acc: 0.9763 - val_loss: 0.1733 - val_acc: 0.9447\n",
            "Epoch 28/50\n",
            "487/487 [==============================] - 68s 140ms/step - loss: 0.0662 - acc: 0.9754 - val_loss: 0.1638 - val_acc: 0.9480\n",
            "Epoch 29/50\n",
            "487/487 [==============================] - 68s 139ms/step - loss: 0.0638 - acc: 0.9762 - val_loss: 0.1946 - val_acc: 0.9443\n",
            "Epoch 30/50\n",
            "487/487 [==============================] - 68s 140ms/step - loss: 0.0647 - acc: 0.9764 - val_loss: 0.1883 - val_acc: 0.9432\n",
            "Epoch 31/50\n",
            "487/487 [==============================] - 68s 139ms/step - loss: 0.0615 - acc: 0.9775 - val_loss: 0.2018 - val_acc: 0.9418\n",
            "Epoch 32/50\n",
            "487/487 [==============================] - 68s 139ms/step - loss: 0.0596 - acc: 0.9787 - val_loss: 0.1870 - val_acc: 0.9488\n",
            "Epoch 33/50\n",
            "487/487 [==============================] - 68s 139ms/step - loss: 0.0588 - acc: 0.9810 - val_loss: 0.1931 - val_acc: 0.9428\n",
            "Epoch 34/50\n",
            "487/487 [==============================] - 68s 139ms/step - loss: 0.0599 - acc: 0.9780 - val_loss: 0.1850 - val_acc: 0.9453\n",
            "Epoch 35/50\n",
            "487/487 [==============================] - 68s 139ms/step - loss: 0.0517 - acc: 0.9813 - val_loss: 0.2094 - val_acc: 0.9430\n",
            "Epoch 36/50\n",
            "487/487 [==============================] - 68s 139ms/step - loss: 0.0633 - acc: 0.9775 - val_loss: 0.1869 - val_acc: 0.9434\n",
            "Epoch 37/50\n",
            "487/487 [==============================] - 68s 139ms/step - loss: 0.0555 - acc: 0.9805 - val_loss: 0.1972 - val_acc: 0.9449\n",
            "Epoch 38/50\n",
            "487/487 [==============================] - 68s 139ms/step - loss: 0.0548 - acc: 0.9814 - val_loss: 0.1818 - val_acc: 0.9459\n",
            "Epoch 39/50\n",
            "487/487 [==============================] - 68s 139ms/step - loss: 0.0524 - acc: 0.9814 - val_loss: 0.1955 - val_acc: 0.9439\n",
            "Epoch 40/50\n",
            "487/487 [==============================] - 68s 140ms/step - loss: 0.0523 - acc: 0.9805 - val_loss: 0.1881 - val_acc: 0.9482\n",
            "Epoch 41/50\n",
            "487/487 [==============================] - 68s 139ms/step - loss: 0.0587 - acc: 0.9789 - val_loss: 0.1974 - val_acc: 0.9476\n",
            "Epoch 42/50\n",
            "487/487 [==============================] - 68s 139ms/step - loss: 0.0518 - acc: 0.9821 - val_loss: 0.2632 - val_acc: 0.9368\n",
            "Epoch 43/50\n",
            "487/487 [==============================] - 68s 139ms/step - loss: 0.0521 - acc: 0.9813 - val_loss: 0.2011 - val_acc: 0.9484\n",
            "Epoch 44/50\n",
            "487/487 [==============================] - 68s 139ms/step - loss: 0.0538 - acc: 0.9819 - val_loss: 0.1767 - val_acc: 0.9495\n",
            "Epoch 45/50\n",
            "487/487 [==============================] - 68s 139ms/step - loss: 0.0482 - acc: 0.9823 - val_loss: 0.1939 - val_acc: 0.9455\n",
            "Epoch 46/50\n",
            "487/487 [==============================] - 68s 139ms/step - loss: 0.0494 - acc: 0.9821 - val_loss: 0.2076 - val_acc: 0.9447\n",
            "Epoch 47/50\n",
            "487/487 [==============================] - 68s 139ms/step - loss: 0.0494 - acc: 0.9828 - val_loss: 0.1967 - val_acc: 0.9459\n",
            "Epoch 48/50\n",
            "487/487 [==============================] - 68s 139ms/step - loss: 0.0458 - acc: 0.9843 - val_loss: 0.2125 - val_acc: 0.9466\n",
            "Epoch 49/50\n",
            "487/487 [==============================] - 68s 139ms/step - loss: 0.0452 - acc: 0.9845 - val_loss: 0.2074 - val_acc: 0.9480\n",
            "Epoch 50/50\n",
            "487/487 [==============================] - 68s 139ms/step - loss: 0.0499 - acc: 0.9818 - val_loss: 0.2077 - val_acc: 0.9449\n"
          ]
        },
        {
          "output_type": "execute_result",
          "data": {
            "text/plain": [
              "<keras.callbacks.History at 0x7f188eb8b850>"
            ]
          },
          "metadata": {},
          "execution_count": 27
        }
      ]
    },
    {
      "cell_type": "code",
      "metadata": {
        "execution": {
          "iopub.status.busy": "2021-11-30T08:29:40.453319Z",
          "iopub.execute_input": "2021-11-30T08:29:40.453967Z",
          "iopub.status.idle": "2021-11-30T08:29:43.572804Z",
          "shell.execute_reply.started": "2021-11-30T08:29:40.453926Z",
          "shell.execute_reply": "2021-11-30T08:29:43.571978Z"
        },
        "trusted": true,
        "id": "Di5wjb8kVsJ0",
        "colab": {
          "base_uri": "https://localhost:8080/",
          "height": 633
        },
        "outputId": "74b345ba-d2be-41fe-9311-0154568b5d04"
      },
      "source": [
        "#validation_data_performance evaluation\n",
        "y_pred = (model.predict(X_test) >= 0.5).astype(\"int\")\n",
        "print(accuracy_score(y_test, y_pred))\n",
        "print(classification_report(y_test, y_pred)) \n",
        "cm = confusion_matrix(y_test, y_pred)\n",
        "plt.figure(figsize=(10,7))\n",
        "sns.heatmap(cm, annot=True)\n",
        "plt.xlabel('Predicted')\n",
        "plt.ylabel('Truth')"
      ],
      "execution_count": 28,
      "outputs": [
        {
          "output_type": "stream",
          "name": "stdout",
          "text": [
            "0.9449046426507417\n",
            "              precision    recall  f1-score   support\n",
            "\n",
            "           0       0.96      0.93      0.94      2561\n",
            "           1       0.93      0.96      0.95      2630\n",
            "\n",
            "    accuracy                           0.94      5191\n",
            "   macro avg       0.95      0.94      0.94      5191\n",
            "weighted avg       0.95      0.94      0.94      5191\n",
            "\n"
          ]
        },
        {
          "output_type": "execute_result",
          "data": {
            "text/plain": [
              "Text(69.0, 0.5, 'Truth')"
            ]
          },
          "metadata": {},
          "execution_count": 28
        },
        {
          "output_type": "display_data",
          "data": {
            "image/png": "[encoded data removed]",
            "text/plain": [
              "<Figure size 720x504 with 2 Axes>"
            ]
          },
          "metadata": {
            "needs_background": "light"
          }
        }
      ]
    },
    {
      "cell_type": "code",
      "metadata": {
        "execution": {
          "iopub.status.busy": "2021-11-30T08:29:52.904003Z",
          "iopub.execute_input": "2021-11-30T08:29:52.904768Z",
          "iopub.status.idle": "2021-11-30T08:29:55.121165Z",
          "shell.execute_reply.started": "2021-11-30T08:29:52.904728Z",
          "shell.execute_reply": "2021-11-30T08:29:55.120371Z"
        },
        "trusted": true,
        "id": "3WYgcs3rVsJ1"
      },
      "source": [
        "#test_data_for_scoring_on_kaggle\n",
        "y_t = (model.predict(x_test) >= 0.5).astype(\"int\")\n",
        "result = pd.DataFrame({\"id\" :df_t.index, \"label\":y_t.squeeze() }, index = None )\n",
        "result.to_csv(\"result_rnn.csv\",index = False)"
      ],
      "execution_count": 29,
      "outputs": []
    },
    {
      "cell_type": "code",
      "metadata": {
        "execution": {
          "iopub.status.busy": "2021-11-30T08:29:57.684121Z",
          "iopub.execute_input": "2021-11-30T08:29:57.68453Z",
          "iopub.status.idle": "2021-11-30T08:29:57.695072Z",
          "shell.execute_reply.started": "2021-11-30T08:29:57.684491Z",
          "shell.execute_reply": "2021-11-30T08:29:57.694405Z"
        },
        "trusted": true,
        "id": "dpPU1UcgVsJ1"
      },
      "source": [
        "#let's include an attention layer in our model\n",
        "class Attention(tf.keras.Model):\n",
        "    def __init__(self, units):\n",
        "        super(Attention, self).__init__()\n",
        "        self.W1 = tf.keras.layers.Dense(units)\n",
        "        self.W2 = tf.keras.layers.Dense(units)\n",
        "        self.V = tf.keras.layers.Dense(1)\n",
        "    def call(self, features, hidden):\n",
        "        hidden_with_time_axis = tf.expand_dims(hidden, 1)\n",
        "        score = tf.nn.tanh(self.W1(features)+ self.W2(hidden_with_time_axis))\n",
        "        attention_weights = tf.nn.softmax(self.V(score),axis = 1)\n",
        "        context_vector = attention_weights * features\n",
        "        context_vector  = tf.reduce_sum(context_vector, axis = 1)\n",
        "        return context_vector, attention_weights"
      ],
      "execution_count": 30,
      "outputs": []
    },
    {
      "cell_type": "code",
      "metadata": {
        "execution": {
          "iopub.status.busy": "2021-11-29T19:30:42.039663Z",
          "iopub.execute_input": "2021-11-29T19:30:42.040455Z",
          "iopub.status.idle": "2021-11-29T19:30:42.047891Z",
          "shell.execute_reply.started": "2021-11-29T19:30:42.040411Z",
          "shell.execute_reply": "2021-11-29T19:30:42.047064Z"
        },
        "trusted": true,
        "id": "qx-8Zd2NVsJ2"
      },
      "source": [
        "'''#dd attention layer to the deep learning network\n",
        "class Attention(Layer):\n",
        "    def __init__(self,**kwargs):\n",
        "        super(Attention,self).__init__(**kwargs)\n",
        " \n",
        "    def build(self,input_shape):\n",
        "        self.W=self.add_weight(name='attention_weight', #shape=(input_shape[-1],1), \n",
        "                               initializer='random_normal', trainable=True)\n",
        "        self.b=self.add_weight(name='attention_bias', #shape=(input_shape[1],1), \n",
        "                               initializer='zeros', trainable=True)        \n",
        "        super(Attention, self).build(input_shape)\n",
        " \n",
        "    def call(self,x):\n",
        "        # Alignment scores. Pass them through tanh function\n",
        "        e = K.tanh(K.dot(x,self.W)+self.b)\n",
        "        # Remove dimension of size 1\n",
        "        e = K.squeeze(e, axis=-1)   \n",
        "        # Compute the weights\n",
        "        alpha = K.softmax(e)\n",
        "        # Reshape to tensorFlow format\n",
        "        alpha = K.expand_dims(alpha, axis=-1)\n",
        "        # Compute the context vector\n",
        "        context = x * alpha\n",
        "        context = K.sum(context, axis=1)\n",
        "        return context'''"
      ],
      "execution_count": null,
      "outputs": []
    },
    {
      "cell_type": "code",
      "metadata": {
        "execution": {
          "iopub.status.busy": "2021-11-30T08:30:14.486761Z",
          "iopub.execute_input": "2021-11-30T08:30:14.487018Z",
          "iopub.status.idle": "2021-11-30T08:40:39.487116Z",
          "shell.execute_reply.started": "2021-11-30T08:30:14.486991Z",
          "shell.execute_reply": "2021-11-30T08:40:39.486402Z"
        },
        "trusted": true,
        "id": "UgU2d0BqVsJ3",
        "colab": {
          "base_uri": "https://localhost:8080/",
          "height": 1000
        },
        "outputId": "de610116-73bd-4ea5-80bd-7dfa5a8520bc"
      },
      "source": [
        "#RNN with Attention model\n",
        "sequence_input = Input(shape = (maxlen,), dtype = \"int32\")\n",
        "embedding = Embedding(vocab_size, output_dim=EMBEDDING_DIM, weights=[embedding_vectors], input_length=maxlen, trainable=False)(sequence_input)\n",
        "dropout = Dropout(0.2)(embedding)\n",
        "\n",
        "conv1 = Conv1D(filters=64, kernel_size=3, padding='same', activation='relu')(dropout)\n",
        "maxp = MaxPooling1D(pool_size=2)(conv1)\n",
        "#(lstm, state_h, state_c) = LSTM(units=128,return_sequences=True,dropout=0.2, return_state= True)(maxp)\n",
        "#bn1 = BatchNormalization()((lstm, state_h, state_c))\n",
        "(lstm, state_h, state_c) = LSTM(units=128,dropout=0.2, return_sequences=True, return_state= True)(maxp)\n",
        "context_vector, attention_weights = Attention(10)(lstm, state_h)\n",
        "densee = Dense(20, activation='relu')(context_vector)\n",
        "#bn = BatchNormalization()(densee)\n",
        "dropout2 = Dropout(0.2)(densee)\n",
        "densef = Dense(1, activation='sigmoid')(dropout2)\n",
        "model = tensorflow.keras.Model(inputs = sequence_input, outputs = densef)\n",
        "model.compile(optimizer='adam', loss='binary_crossentropy', metrics=['acc'])\n",
        "display(model.summary())\n",
        "history = model.fit(X_train, y_train, validation_data= (X_test,y_test), epochs=50)"
      ],
      "execution_count": 34,
      "outputs": [
        {
          "metadata": {
            "tags": null
          },
          "name": "stdout",
          "output_type": "stream",
          "text": [
            "Model: \"model_1\"\n",
            "__________________________________________________________________________________________________\n",
            " Layer (type)                   Output Shape         Param #     Connected to                     \n",
            "==================================================================================================\n",
            " input_2 (InputLayer)           [(None, 700)]        0           []                               \n",
            "                                                                                                  \n",
            " embedding_2 (Embedding)        (None, 700, 100)     3421500     ['input_2[0][0]']                \n",
            "                                                                                                  \n",
            " dropout_3 (Dropout)            (None, 700, 100)     0           ['embedding_2[0][0]']            \n",
            "                                                                                                  \n",
            " conv1d_2 (Conv1D)              (None, 700, 64)      19264       ['dropout_3[0][0]']              \n",
            "                                                                                                  \n",
            " max_pooling1d_2 (MaxPooling1D)  (None, 350, 64)     0           ['conv1d_2[0][0]']               \n",
            "                                                                                                  \n",
            " lstm_3 (LSTM)                  [(None, 350, 128),   98816       ['max_pooling1d_2[0][0]']        \n",
            "                                 (None, 128),                                                     \n",
            "                                 (None, 128)]                                                     \n",
            "                                                                                                  \n",
            " attention_1 (Attention)        ((None, 128),        2591        ['lstm_3[0][0]',                 \n",
            "                                 (None, 350, 1))                  'lstm_3[0][1]']                 \n",
            "                                                                                                  \n",
            " dense_9 (Dense)                (None, 20)           2580        ['attention_1[0][0]']            \n",
            "                                                                                                  \n",
            " dropout_4 (Dropout)            (None, 20)           0           ['dense_9[0][0]']                \n",
            "                                                                                                  \n",
            " dense_10 (Dense)               (None, 1)            21          ['dropout_4[0][0]']              \n",
            "                                                                                                  \n",
            "==================================================================================================\n",
            "Total params: 3,544,772\n",
            "Trainable params: 123,272\n",
            "Non-trainable params: 3,421,500\n",
            "__________________________________________________________________________________________________\n"
          ]
        },
        {
          "data": {
            "text/plain": [
              "None"
            ]
          },
          "metadata": {},
          "output_type": "display_data"
        },
        {
          "output_type": "stream",
          "name": "stdout",
          "text": [
            "Epoch 1/50\n",
            "487/487 [==============================] - 40s 76ms/step - loss: 0.3565 - acc: 0.8475 - val_loss: 0.2530 - val_acc: 0.8969\n",
            "Epoch 2/50\n",
            "487/487 [==============================] - 36s 75ms/step - loss: 0.2336 - acc: 0.9100 - val_loss: 0.1945 - val_acc: 0.9210\n",
            "Epoch 3/50\n",
            "487/487 [==============================] - 36s 75ms/step - loss: 0.2049 - acc: 0.9227 - val_loss: 0.1795 - val_acc: 0.9293\n",
            "Epoch 4/50\n",
            "487/487 [==============================] - 37s 75ms/step - loss: 0.1721 - acc: 0.9331 - val_loss: 0.1644 - val_acc: 0.9370\n",
            "Epoch 5/50\n",
            "487/487 [==============================] - 37s 75ms/step - loss: 0.1588 - acc: 0.9404 - val_loss: 0.1769 - val_acc: 0.9312\n",
            "Epoch 6/50\n",
            "487/487 [==============================] - 37s 75ms/step - loss: 0.1501 - acc: 0.9432 - val_loss: 0.2050 - val_acc: 0.9216\n",
            "Epoch 7/50\n",
            "487/487 [==============================] - 37s 75ms/step - loss: 0.1385 - acc: 0.9473 - val_loss: 0.1497 - val_acc: 0.9422\n",
            "Epoch 8/50\n",
            "487/487 [==============================] - 37s 75ms/step - loss: 0.1240 - acc: 0.9544 - val_loss: 0.1627 - val_acc: 0.9389\n",
            "Epoch 9/50\n",
            "487/487 [==============================] - 37s 75ms/step - loss: 0.1123 - acc: 0.9569 - val_loss: 0.1499 - val_acc: 0.9414\n",
            "Epoch 10/50\n",
            "487/487 [==============================] - 37s 75ms/step - loss: 0.1045 - acc: 0.9601 - val_loss: 0.1525 - val_acc: 0.9439\n",
            "Epoch 11/50\n",
            "487/487 [==============================] - 37s 76ms/step - loss: 0.1000 - acc: 0.9618 - val_loss: 0.1744 - val_acc: 0.9420\n",
            "Epoch 12/50\n",
            "487/487 [==============================] - 37s 75ms/step - loss: 0.0949 - acc: 0.9635 - val_loss: 0.1626 - val_acc: 0.9432\n",
            "Epoch 13/50\n",
            "487/487 [==============================] - 37s 75ms/step - loss: 0.0899 - acc: 0.9653 - val_loss: 0.1685 - val_acc: 0.9428\n",
            "Epoch 14/50\n",
            "487/487 [==============================] - 37s 75ms/step - loss: 0.0867 - acc: 0.9680 - val_loss: 0.1505 - val_acc: 0.9459\n",
            "Epoch 15/50\n",
            "487/487 [==============================] - 37s 75ms/step - loss: 0.0776 - acc: 0.9718 - val_loss: 0.1555 - val_acc: 0.9461\n",
            "Epoch 16/50\n",
            "487/487 [==============================] - 37s 75ms/step - loss: 0.0748 - acc: 0.9728 - val_loss: 0.1732 - val_acc: 0.9414\n",
            "Epoch 17/50\n",
            "487/487 [==============================] - 37s 76ms/step - loss: 0.0738 - acc: 0.9729 - val_loss: 0.1672 - val_acc: 0.9424\n",
            "Epoch 18/50\n",
            "487/487 [==============================] - 37s 76ms/step - loss: 0.0691 - acc: 0.9750 - val_loss: 0.1850 - val_acc: 0.9407\n",
            "Epoch 19/50\n",
            "487/487 [==============================] - 37s 76ms/step - loss: 0.0646 - acc: 0.9769 - val_loss: 0.1742 - val_acc: 0.9426\n",
            "Epoch 20/50\n",
            "487/487 [==============================] - 37s 75ms/step - loss: 0.0638 - acc: 0.9766 - val_loss: 0.1853 - val_acc: 0.9405\n",
            "Epoch 21/50\n",
            "487/487 [==============================] - 37s 75ms/step - loss: 0.0614 - acc: 0.9780 - val_loss: 0.1846 - val_acc: 0.9468\n",
            "Epoch 22/50\n",
            "487/487 [==============================] - 37s 76ms/step - loss: 0.0590 - acc: 0.9781 - val_loss: 0.1897 - val_acc: 0.9437\n",
            "Epoch 23/50\n",
            "487/487 [==============================] - 37s 75ms/step - loss: 0.0537 - acc: 0.9803 - val_loss: 0.1874 - val_acc: 0.9437\n",
            "Epoch 24/50\n",
            "487/487 [==============================] - 37s 75ms/step - loss: 0.0501 - acc: 0.9814 - val_loss: 0.1939 - val_acc: 0.9430\n",
            "Epoch 25/50\n",
            "487/487 [==============================] - 37s 75ms/step - loss: 0.0562 - acc: 0.9796 - val_loss: 0.1812 - val_acc: 0.9455\n",
            "Epoch 26/50\n",
            "487/487 [==============================] - 37s 75ms/step - loss: 0.0459 - acc: 0.9837 - val_loss: 0.2072 - val_acc: 0.9445\n",
            "Epoch 27/50\n",
            "487/487 [==============================] - 37s 75ms/step - loss: 0.0496 - acc: 0.9821 - val_loss: 0.2134 - val_acc: 0.9441\n",
            "Epoch 28/50\n",
            "487/487 [==============================] - 37s 75ms/step - loss: 0.0494 - acc: 0.9818 - val_loss: 0.2125 - val_acc: 0.9430\n",
            "Epoch 29/50\n",
            "487/487 [==============================] - 37s 75ms/step - loss: 0.0491 - acc: 0.9818 - val_loss: 0.1945 - val_acc: 0.9422\n",
            "Epoch 30/50\n",
            "487/487 [==============================] - 37s 75ms/step - loss: 0.0420 - acc: 0.9850 - val_loss: 0.2367 - val_acc: 0.9411\n",
            "Epoch 31/50\n",
            "487/487 [==============================] - 37s 75ms/step - loss: 0.0452 - acc: 0.9841 - val_loss: 0.2101 - val_acc: 0.9418\n",
            "Epoch 32/50\n",
            "487/487 [==============================] - 37s 76ms/step - loss: 0.0403 - acc: 0.9848 - val_loss: 0.2092 - val_acc: 0.9430\n",
            "Epoch 33/50\n",
            "487/487 [==============================] - 37s 76ms/step - loss: 0.0449 - acc: 0.9835 - val_loss: 0.1839 - val_acc: 0.9455\n",
            "Epoch 34/50\n",
            "487/487 [==============================] - 37s 76ms/step - loss: 0.0409 - acc: 0.9846 - val_loss: 0.2073 - val_acc: 0.9443\n",
            "Epoch 35/50\n",
            "487/487 [==============================] - 37s 76ms/step - loss: 0.0407 - acc: 0.9852 - val_loss: 0.2041 - val_acc: 0.9472\n",
            "Epoch 36/50\n",
            "487/487 [==============================] - 37s 76ms/step - loss: 0.0387 - acc: 0.9864 - val_loss: 0.2209 - val_acc: 0.9432\n",
            "Epoch 37/50\n",
            "487/487 [==============================] - 37s 76ms/step - loss: 0.0361 - acc: 0.9877 - val_loss: 0.2172 - val_acc: 0.9424\n",
            "Epoch 38/50\n",
            "487/487 [==============================] - 37s 77ms/step - loss: 0.0404 - acc: 0.9859 - val_loss: 0.2072 - val_acc: 0.9436\n",
            "Epoch 39/50\n",
            "487/487 [==============================] - 37s 77ms/step - loss: 0.0353 - acc: 0.9877 - val_loss: 0.2092 - val_acc: 0.9472\n",
            "Epoch 40/50\n",
            "487/487 [==============================] - 37s 76ms/step - loss: 0.0366 - acc: 0.9862 - val_loss: 0.2417 - val_acc: 0.9405\n",
            "Epoch 41/50\n",
            "487/487 [==============================] - 37s 76ms/step - loss: 0.0377 - acc: 0.9863 - val_loss: 0.2143 - val_acc: 0.9455\n",
            "Epoch 42/50\n",
            "487/487 [==============================] - 37s 76ms/step - loss: 0.0391 - acc: 0.9852 - val_loss: 0.2059 - val_acc: 0.9441\n",
            "Epoch 43/50\n",
            "487/487 [==============================] - 37s 76ms/step - loss: 0.0353 - acc: 0.9879 - val_loss: 0.2077 - val_acc: 0.9480\n",
            "Epoch 44/50\n",
            "487/487 [==============================] - 37s 76ms/step - loss: 0.0404 - acc: 0.9845 - val_loss: 0.2033 - val_acc: 0.9424\n",
            "Epoch 45/50\n",
            "487/487 [==============================] - 37s 77ms/step - loss: 0.0362 - acc: 0.9872 - val_loss: 0.2151 - val_acc: 0.9466\n",
            "Epoch 46/50\n",
            "487/487 [==============================] - 37s 77ms/step - loss: 0.0351 - acc: 0.9885 - val_loss: 0.2097 - val_acc: 0.9437\n",
            "Epoch 47/50\n",
            "487/487 [==============================] - 37s 76ms/step - loss: 0.0339 - acc: 0.9878 - val_loss: 0.2271 - val_acc: 0.9382\n",
            "Epoch 48/50\n",
            "487/487 [==============================] - 37s 76ms/step - loss: 0.0349 - acc: 0.9872 - val_loss: 0.2504 - val_acc: 0.9393\n",
            "Epoch 49/50\n",
            "487/487 [==============================] - 37s 76ms/step - loss: 0.0333 - acc: 0.9879 - val_loss: 0.2339 - val_acc: 0.9418\n",
            "Epoch 50/50\n",
            "487/487 [==============================] - 37s 77ms/step - loss: 0.0338 - acc: 0.9879 - val_loss: 0.2357 - val_acc: 0.9455\n"
          ]
        }
      ]
    },
    {
      "cell_type": "code",
      "metadata": {
        "execution": {
          "iopub.status.busy": "2021-11-30T08:46:26.193961Z",
          "iopub.execute_input": "2021-11-30T08:46:26.194451Z",
          "iopub.status.idle": "2021-11-30T08:46:28.265741Z",
          "shell.execute_reply.started": "2021-11-30T08:46:26.194414Z",
          "shell.execute_reply": "2021-11-30T08:46:28.26487Z"
        },
        "trusted": true,
        "id": "8E8qApwtVsJ3",
        "colab": {
          "base_uri": "https://localhost:8080/",
          "height": 633
        },
        "outputId": "8b6bbd43-289c-4b9f-cfe8-8f292f5d64ee"
      },
      "source": [
        "#checking accuracy on validation data\n",
        "y_pred = (model.predict(X_test) >= 0.5).astype(\"int\")\n",
        "print(accuracy_score(y_test, y_pred))\n",
        "print(classification_report(y_test, y_pred)) \n",
        "cm = confusion_matrix(y_test, y_pred)\n",
        "plt.figure(figsize=(10,7))\n",
        "sns.heatmap(cm, annot=True)\n",
        "plt.xlabel('Predicted')\n",
        "plt.ylabel('Truth')"
      ],
      "execution_count": 35,
      "outputs": [
        {
          "output_type": "stream",
          "name": "stdout",
          "text": [
            "0.94548256597958\n",
            "              precision    recall  f1-score   support\n",
            "\n",
            "           0       0.96      0.93      0.94      2561\n",
            "           1       0.93      0.97      0.95      2630\n",
            "\n",
            "    accuracy                           0.95      5191\n",
            "   macro avg       0.95      0.95      0.95      5191\n",
            "weighted avg       0.95      0.95      0.95      5191\n",
            "\n"
          ]
        },
        {
          "output_type": "execute_result",
          "data": {
            "text/plain": [
              "Text(69.0, 0.5, 'Truth')"
            ]
          },
          "metadata": {},
          "execution_count": 35
        },
        {
          "output_type": "display_data",
          "data": {
            "image/png": "[encoded data removed]",
            "text/plain": [
              "<Figure size 720x504 with 2 Axes>"
            ]
          },
          "metadata": {
            "needs_background": "light"
          }
        }
      ]
    },
    {
      "cell_type": "code",
      "metadata": {
        "colab": {
          "base_uri": "https://localhost:8080/"
        },
        "id": "Bzn7vHP0NEAq",
        "outputId": "e88900f1-c072-4a19-9507-b5416afa9173"
      },
      "source": [
        "history.history.keys()"
      ],
      "execution_count": 38,
      "outputs": [
        {
          "output_type": "execute_result",
          "data": {
            "text/plain": [
              "dict_keys(['loss', 'acc', 'val_loss', 'val_acc'])"
            ]
          },
          "metadata": {},
          "execution_count": 38
        }
      ]
    },
    {
      "cell_type": "code",
      "metadata": {
        "colab": {
          "base_uri": "https://localhost:8080/",
          "height": 295
        },
        "id": "hIfcmBpi8aMf",
        "outputId": "04e9c289-8945-4b93-d6ff-c09b34dd70a3"
      },
      "source": [
        "# summarize history for accuracy\n",
        "plt.plot(history.history['acc'])\n",
        "plt.plot(history.history['val_acc'])\n",
        "plt.title('model accuracy')\n",
        "plt.ylabel('accuracy')\n",
        "plt.xlabel('epoch')\n",
        "plt.legend(['train', 'test'], loc='upper left')\n",
        "plt.show()"
      ],
      "execution_count": 39,
      "outputs": [
        {
          "output_type": "display_data",
          "data": {
            "image/png": "[encoded data removed]",
            "text/plain": [
              "<Figure size 432x288 with 1 Axes>"
            ]
          },
          "metadata": {
            "needs_background": "light"
          }
        }
      ]
    },
    {
      "cell_type": "code",
      "metadata": {
        "colab": {
          "base_uri": "https://localhost:8080/",
          "height": 295
        },
        "id": "QuFvB8zk8bLd",
        "outputId": "0ddfcd4e-5755-458d-8f05-80899415b9ce"
      },
      "source": [
        "plt.plot(history.history['loss'])\n",
        "plt.plot(history.history['val_loss'])\n",
        "plt.title('model loss')\n",
        "plt.ylabel('loss')\n",
        "plt.xlabel('epoch')\n",
        "plt.legend(['train', 'test'], loc='upper left')\n",
        "plt.show()"
      ],
      "execution_count": 40,
      "outputs": [
        {
          "output_type": "display_data",
          "data": {
            "image/png": "[encoded data removed]",
            "text/plain": [
              "<Figure size 432x288 with 1 Axes>"
            ]
          },
          "metadata": {
            "needs_background": "light"
          }
        }
      ]
    },
    {
      "cell_type": "code",
      "metadata": {
        "execution": {
          "iopub.status.busy": "2021-11-30T08:46:31.373661Z",
          "iopub.execute_input": "2021-11-30T08:46:31.373915Z",
          "iopub.status.idle": "2021-11-30T08:46:32.939174Z",
          "shell.execute_reply.started": "2021-11-30T08:46:31.373888Z",
          "shell.execute_reply": "2021-11-30T08:46:32.938326Z"
        },
        "trusted": true,
        "id": "SYxvZc7BVsJ4"
      },
      "source": [
        "y_t = (model.predict(x_test) >= 0.5).astype(\"int\")\n",
        "result = pd.DataFrame({\"id\" :df_t.index, \"label\":y_t.squeeze() }, index = None )\n",
        "result.to_csv(\"result_rnnattenion.csv\",index = False)"
      ],
      "execution_count": 41,
      "outputs": []
    },
    {
      "cell_type": "code",
      "metadata": {
        "id": "7wxtEutLVsJ4"
      },
      "source": [
        ""
      ],
      "execution_count": null,
      "outputs": []
    }
  ]
}